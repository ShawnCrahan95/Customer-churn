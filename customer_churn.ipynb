{
 "cells": [
  {
   "cell_type": "markdown",
   "metadata": {},
   "source": [
    "# Отток клиентов"
   ]
  },
  {
   "cell_type": "markdown",
   "metadata": {},
   "source": [
    "Из «Бета-Банка» стали уходить клиенты. Каждый месяц. Немного, но заметно. Банковские маркетологи посчитали: сохранять текущих клиентов дешевле, чем привлекать новых.\n",
    "\n",
    "Нужно спрогнозировать, уйдёт клиент из банка в ближайшее время или нет. Вам предоставлены исторические данные о поведении клиентов и расторжении договоров с банком. \n",
    "\n",
    "Постройте модель с предельно большим значением *F1*-меры. Чтобы сдать проект успешно, нужно довести метрику до 0.59. Проверьте *F1*-меру на тестовой выборке самостоятельно.\n",
    "\n",
    "Дополнительно измеряйте *AUC-ROC*, сравнивайте её значение с *F1*-мерой.\n",
    "\n",
    "Источник данных: [https://www.kaggle.com/barelydedicated/bank-customer-churn-modeling](https://www.kaggle.com/barelydedicated/bank-customer-churn-modeling)"
   ]
  },
  {
   "cell_type": "markdown",
   "metadata": {},
   "source": [
    "Описание данных:\\\n",
    "\\\n",
    "RowNumber — индекс строки в данных\\\n",
    "CustomerId — уникальный идентификатор клиента\\\n",
    "Surname — фамилия\\\n",
    "CreditScore — кредитный рейтинг\\\n",
    "Geography — страна проживания\\\n",
    "Gender — пол\\\n",
    "Age — возраст\\\n",
    "Tenure — сколько лет человек является клиентом банка\\\n",
    "Balance — баланс на счёте\\\n",
    "NumOfProducts — количество продуктов банка, используемых клиентом\\\n",
    "HasCrCard — наличие кредитной карты\\\n",
    "IsActiveMember — активность клиента\\\n",
    "EstimatedSalary — предполагаемая зарплата\\\n",
    "Целевой признак\\\n",
    "Exited — факт ухода клиента\\"
   ]
  },
  {
   "cell_type": "markdown",
   "metadata": {},
   "source": [
    "## Подготовка данных"
   ]
  },
  {
   "cell_type": "code",
   "execution_count": 1,
   "metadata": {},
   "outputs": [],
   "source": [
    "import pandas as pd\n",
    "import re\n",
    "import numpy as np\n",
    "from tqdm import tqdm\n",
    "import matplotlib.pyplot as plt\n",
    "from sklearn.model_selection import train_test_split\n",
    "from sklearn.preprocessing import StandardScaler \n",
    "from sklearn.tree import DecisionTreeClassifier\n",
    "from sklearn.ensemble import RandomForestClassifier\n",
    "from sklearn.linear_model import LogisticRegression\n",
    "from sklearn.metrics import f1_score, roc_auc_score, confusion_matrix, roc_curve, recall_score, accuracy_score\n",
    "from sklearn.utils import shuffle\n",
    "from sklearn.dummy import DummyClassifier"
   ]
  },
  {
   "cell_type": "code",
   "execution_count": 2,
   "metadata": {},
   "outputs": [],
   "source": [
    "data = pd.read_csv('/datasets/Churn.csv')"
   ]
  },
  {
   "cell_type": "code",
   "execution_count": 3,
   "metadata": {},
   "outputs": [],
   "source": [
    "#data.head(10)"
   ]
  },
  {
   "cell_type": "code",
   "execution_count": 4,
   "metadata": {},
   "outputs": [
    {
     "data": {
      "text/html": [
       "<div>\n",
       "<style scoped>\n",
       "    .dataframe tbody tr th:only-of-type {\n",
       "        vertical-align: middle;\n",
       "    }\n",
       "\n",
       "    .dataframe tbody tr th {\n",
       "        vertical-align: top;\n",
       "    }\n",
       "\n",
       "    .dataframe thead th {\n",
       "        text-align: right;\n",
       "    }\n",
       "</style>\n",
       "<table border=\"1\" class=\"dataframe\">\n",
       "  <thead>\n",
       "    <tr style=\"text-align: right;\">\n",
       "      <th></th>\n",
       "      <th>RowNumber</th>\n",
       "      <th>CustomerId</th>\n",
       "      <th>Surname</th>\n",
       "      <th>CreditScore</th>\n",
       "      <th>Geography</th>\n",
       "      <th>Gender</th>\n",
       "      <th>Age</th>\n",
       "      <th>Tenure</th>\n",
       "      <th>Balance</th>\n",
       "      <th>NumOfProducts</th>\n",
       "      <th>HasCrCard</th>\n",
       "      <th>IsActiveMember</th>\n",
       "      <th>EstimatedSalary</th>\n",
       "      <th>Exited</th>\n",
       "    </tr>\n",
       "  </thead>\n",
       "  <tbody>\n",
       "    <tr>\n",
       "      <th>5775</th>\n",
       "      <td>5776</td>\n",
       "      <td>15717527</td>\n",
       "      <td>Ifeanacho</td>\n",
       "      <td>619</td>\n",
       "      <td>France</td>\n",
       "      <td>Female</td>\n",
       "      <td>49</td>\n",
       "      <td>9.0</td>\n",
       "      <td>145359.99</td>\n",
       "      <td>1</td>\n",
       "      <td>1</td>\n",
       "      <td>0</td>\n",
       "      <td>38186.85</td>\n",
       "      <td>0</td>\n",
       "    </tr>\n",
       "    <tr>\n",
       "      <th>8830</th>\n",
       "      <td>8831</td>\n",
       "      <td>15810444</td>\n",
       "      <td>Aksenov</td>\n",
       "      <td>562</td>\n",
       "      <td>Germany</td>\n",
       "      <td>Female</td>\n",
       "      <td>39</td>\n",
       "      <td>6.0</td>\n",
       "      <td>130565.02</td>\n",
       "      <td>1</td>\n",
       "      <td>1</td>\n",
       "      <td>0</td>\n",
       "      <td>9854.72</td>\n",
       "      <td>1</td>\n",
       "    </tr>\n",
       "    <tr>\n",
       "      <th>2799</th>\n",
       "      <td>2800</td>\n",
       "      <td>15775662</td>\n",
       "      <td>McKay</td>\n",
       "      <td>760</td>\n",
       "      <td>France</td>\n",
       "      <td>Male</td>\n",
       "      <td>43</td>\n",
       "      <td>8.0</td>\n",
       "      <td>121911.59</td>\n",
       "      <td>1</td>\n",
       "      <td>1</td>\n",
       "      <td>0</td>\n",
       "      <td>193312.33</td>\n",
       "      <td>0</td>\n",
       "    </tr>\n",
       "    <tr>\n",
       "      <th>6806</th>\n",
       "      <td>6807</td>\n",
       "      <td>15795586</td>\n",
       "      <td>McDonald</td>\n",
       "      <td>478</td>\n",
       "      <td>France</td>\n",
       "      <td>Male</td>\n",
       "      <td>35</td>\n",
       "      <td>1.0</td>\n",
       "      <td>92474.05</td>\n",
       "      <td>1</td>\n",
       "      <td>1</td>\n",
       "      <td>0</td>\n",
       "      <td>178626.07</td>\n",
       "      <td>0</td>\n",
       "    </tr>\n",
       "    <tr>\n",
       "      <th>3584</th>\n",
       "      <td>3585</td>\n",
       "      <td>15664227</td>\n",
       "      <td>Threatt</td>\n",
       "      <td>506</td>\n",
       "      <td>Germany</td>\n",
       "      <td>Male</td>\n",
       "      <td>28</td>\n",
       "      <td>8.0</td>\n",
       "      <td>53053.76</td>\n",
       "      <td>1</td>\n",
       "      <td>0</td>\n",
       "      <td>1</td>\n",
       "      <td>24577.34</td>\n",
       "      <td>0</td>\n",
       "    </tr>\n",
       "    <tr>\n",
       "      <th>9295</th>\n",
       "      <td>9296</td>\n",
       "      <td>15740868</td>\n",
       "      <td>Pirogova</td>\n",
       "      <td>658</td>\n",
       "      <td>Germany</td>\n",
       "      <td>Female</td>\n",
       "      <td>45</td>\n",
       "      <td>9.0</td>\n",
       "      <td>134562.80</td>\n",
       "      <td>1</td>\n",
       "      <td>1</td>\n",
       "      <td>1</td>\n",
       "      <td>159268.67</td>\n",
       "      <td>0</td>\n",
       "    </tr>\n",
       "    <tr>\n",
       "      <th>1392</th>\n",
       "      <td>1393</td>\n",
       "      <td>15730540</td>\n",
       "      <td>Simpson</td>\n",
       "      <td>794</td>\n",
       "      <td>Spain</td>\n",
       "      <td>Male</td>\n",
       "      <td>45</td>\n",
       "      <td>8.0</td>\n",
       "      <td>88656.37</td>\n",
       "      <td>2</td>\n",
       "      <td>1</td>\n",
       "      <td>0</td>\n",
       "      <td>116547.31</td>\n",
       "      <td>0</td>\n",
       "    </tr>\n",
       "    <tr>\n",
       "      <th>2247</th>\n",
       "      <td>2248</td>\n",
       "      <td>15785485</td>\n",
       "      <td>Zhou</td>\n",
       "      <td>595</td>\n",
       "      <td>Germany</td>\n",
       "      <td>Female</td>\n",
       "      <td>41</td>\n",
       "      <td>2.0</td>\n",
       "      <td>138878.81</td>\n",
       "      <td>1</td>\n",
       "      <td>0</td>\n",
       "      <td>1</td>\n",
       "      <td>112269.67</td>\n",
       "      <td>0</td>\n",
       "    </tr>\n",
       "    <tr>\n",
       "      <th>1335</th>\n",
       "      <td>1336</td>\n",
       "      <td>15576683</td>\n",
       "      <td>Yin</td>\n",
       "      <td>568</td>\n",
       "      <td>Spain</td>\n",
       "      <td>Female</td>\n",
       "      <td>43</td>\n",
       "      <td>9.0</td>\n",
       "      <td>0.00</td>\n",
       "      <td>1</td>\n",
       "      <td>1</td>\n",
       "      <td>0</td>\n",
       "      <td>125870.79</td>\n",
       "      <td>1</td>\n",
       "    </tr>\n",
       "    <tr>\n",
       "      <th>7828</th>\n",
       "      <td>7829</td>\n",
       "      <td>15581286</td>\n",
       "      <td>Castro</td>\n",
       "      <td>734</td>\n",
       "      <td>France</td>\n",
       "      <td>Female</td>\n",
       "      <td>40</td>\n",
       "      <td>9.0</td>\n",
       "      <td>176914.80</td>\n",
       "      <td>1</td>\n",
       "      <td>1</td>\n",
       "      <td>1</td>\n",
       "      <td>12799.23</td>\n",
       "      <td>0</td>\n",
       "    </tr>\n",
       "  </tbody>\n",
       "</table>\n",
       "</div>"
      ],
      "text/plain": [
       "      RowNumber  CustomerId    Surname  CreditScore Geography  Gender  Age  \\\n",
       "5775       5776    15717527  Ifeanacho          619    France  Female   49   \n",
       "8830       8831    15810444    Aksenov          562   Germany  Female   39   \n",
       "2799       2800    15775662      McKay          760    France    Male   43   \n",
       "6806       6807    15795586   McDonald          478    France    Male   35   \n",
       "3584       3585    15664227    Threatt          506   Germany    Male   28   \n",
       "9295       9296    15740868   Pirogova          658   Germany  Female   45   \n",
       "1392       1393    15730540    Simpson          794     Spain    Male   45   \n",
       "2247       2248    15785485       Zhou          595   Germany  Female   41   \n",
       "1335       1336    15576683        Yin          568     Spain  Female   43   \n",
       "7828       7829    15581286     Castro          734    France  Female   40   \n",
       "\n",
       "      Tenure    Balance  NumOfProducts  HasCrCard  IsActiveMember  \\\n",
       "5775     9.0  145359.99              1          1               0   \n",
       "8830     6.0  130565.02              1          1               0   \n",
       "2799     8.0  121911.59              1          1               0   \n",
       "6806     1.0   92474.05              1          1               0   \n",
       "3584     8.0   53053.76              1          0               1   \n",
       "9295     9.0  134562.80              1          1               1   \n",
       "1392     8.0   88656.37              2          1               0   \n",
       "2247     2.0  138878.81              1          0               1   \n",
       "1335     9.0       0.00              1          1               0   \n",
       "7828     9.0  176914.80              1          1               1   \n",
       "\n",
       "      EstimatedSalary  Exited  \n",
       "5775         38186.85       0  \n",
       "8830          9854.72       1  \n",
       "2799        193312.33       0  \n",
       "6806        178626.07       0  \n",
       "3584         24577.34       0  \n",
       "9295        159268.67       0  \n",
       "1392        116547.31       0  \n",
       "2247        112269.67       0  \n",
       "1335        125870.79       1  \n",
       "7828         12799.23       0  "
      ]
     },
     "execution_count": 4,
     "metadata": {},
     "output_type": "execute_result"
    }
   ],
   "source": [
    "data.sample(10)"
   ]
  },
  {
   "cell_type": "code",
   "execution_count": 5,
   "metadata": {},
   "outputs": [
    {
     "name": "stdout",
     "output_type": "stream",
     "text": [
      "<class 'pandas.core.frame.DataFrame'>\n",
      "RangeIndex: 10000 entries, 0 to 9999\n",
      "Data columns (total 14 columns):\n",
      " #   Column           Non-Null Count  Dtype  \n",
      "---  ------           --------------  -----  \n",
      " 0   RowNumber        10000 non-null  int64  \n",
      " 1   CustomerId       10000 non-null  int64  \n",
      " 2   Surname          10000 non-null  object \n",
      " 3   CreditScore      10000 non-null  int64  \n",
      " 4   Geography        10000 non-null  object \n",
      " 5   Gender           10000 non-null  object \n",
      " 6   Age              10000 non-null  int64  \n",
      " 7   Tenure           9091 non-null   float64\n",
      " 8   Balance          10000 non-null  float64\n",
      " 9   NumOfProducts    10000 non-null  int64  \n",
      " 10  HasCrCard        10000 non-null  int64  \n",
      " 11  IsActiveMember   10000 non-null  int64  \n",
      " 12  EstimatedSalary  10000 non-null  float64\n",
      " 13  Exited           10000 non-null  int64  \n",
      "dtypes: float64(3), int64(8), object(3)\n",
      "memory usage: 1.1+ MB\n"
     ]
    }
   ],
   "source": [
    "data.info()"
   ]
  },
  {
   "cell_type": "code",
   "execution_count": 6,
   "metadata": {},
   "outputs": [
    {
     "data": {
      "text/html": [
       "<div>\n",
       "<style scoped>\n",
       "    .dataframe tbody tr th:only-of-type {\n",
       "        vertical-align: middle;\n",
       "    }\n",
       "\n",
       "    .dataframe tbody tr th {\n",
       "        vertical-align: top;\n",
       "    }\n",
       "\n",
       "    .dataframe thead th {\n",
       "        text-align: right;\n",
       "    }\n",
       "</style>\n",
       "<table border=\"1\" class=\"dataframe\">\n",
       "  <thead>\n",
       "    <tr style=\"text-align: right;\">\n",
       "      <th></th>\n",
       "      <th>RowNumber</th>\n",
       "      <th>CustomerId</th>\n",
       "      <th>CreditScore</th>\n",
       "      <th>Age</th>\n",
       "      <th>Tenure</th>\n",
       "      <th>Balance</th>\n",
       "      <th>NumOfProducts</th>\n",
       "      <th>HasCrCard</th>\n",
       "      <th>IsActiveMember</th>\n",
       "      <th>EstimatedSalary</th>\n",
       "      <th>Exited</th>\n",
       "    </tr>\n",
       "  </thead>\n",
       "  <tbody>\n",
       "    <tr>\n",
       "      <th>count</th>\n",
       "      <td>10000.00000</td>\n",
       "      <td>1.000000e+04</td>\n",
       "      <td>10000.000000</td>\n",
       "      <td>10000.000000</td>\n",
       "      <td>9091.000000</td>\n",
       "      <td>10000.000000</td>\n",
       "      <td>10000.000000</td>\n",
       "      <td>10000.00000</td>\n",
       "      <td>10000.000000</td>\n",
       "      <td>10000.000000</td>\n",
       "      <td>10000.000000</td>\n",
       "    </tr>\n",
       "    <tr>\n",
       "      <th>mean</th>\n",
       "      <td>5000.50000</td>\n",
       "      <td>1.569094e+07</td>\n",
       "      <td>650.528800</td>\n",
       "      <td>38.921800</td>\n",
       "      <td>4.997690</td>\n",
       "      <td>76485.889288</td>\n",
       "      <td>1.530200</td>\n",
       "      <td>0.70550</td>\n",
       "      <td>0.515100</td>\n",
       "      <td>100090.239881</td>\n",
       "      <td>0.203700</td>\n",
       "    </tr>\n",
       "    <tr>\n",
       "      <th>std</th>\n",
       "      <td>2886.89568</td>\n",
       "      <td>7.193619e+04</td>\n",
       "      <td>96.653299</td>\n",
       "      <td>10.487806</td>\n",
       "      <td>2.894723</td>\n",
       "      <td>62397.405202</td>\n",
       "      <td>0.581654</td>\n",
       "      <td>0.45584</td>\n",
       "      <td>0.499797</td>\n",
       "      <td>57510.492818</td>\n",
       "      <td>0.402769</td>\n",
       "    </tr>\n",
       "    <tr>\n",
       "      <th>min</th>\n",
       "      <td>1.00000</td>\n",
       "      <td>1.556570e+07</td>\n",
       "      <td>350.000000</td>\n",
       "      <td>18.000000</td>\n",
       "      <td>0.000000</td>\n",
       "      <td>0.000000</td>\n",
       "      <td>1.000000</td>\n",
       "      <td>0.00000</td>\n",
       "      <td>0.000000</td>\n",
       "      <td>11.580000</td>\n",
       "      <td>0.000000</td>\n",
       "    </tr>\n",
       "    <tr>\n",
       "      <th>25%</th>\n",
       "      <td>2500.75000</td>\n",
       "      <td>1.562853e+07</td>\n",
       "      <td>584.000000</td>\n",
       "      <td>32.000000</td>\n",
       "      <td>2.000000</td>\n",
       "      <td>0.000000</td>\n",
       "      <td>1.000000</td>\n",
       "      <td>0.00000</td>\n",
       "      <td>0.000000</td>\n",
       "      <td>51002.110000</td>\n",
       "      <td>0.000000</td>\n",
       "    </tr>\n",
       "    <tr>\n",
       "      <th>50%</th>\n",
       "      <td>5000.50000</td>\n",
       "      <td>1.569074e+07</td>\n",
       "      <td>652.000000</td>\n",
       "      <td>37.000000</td>\n",
       "      <td>5.000000</td>\n",
       "      <td>97198.540000</td>\n",
       "      <td>1.000000</td>\n",
       "      <td>1.00000</td>\n",
       "      <td>1.000000</td>\n",
       "      <td>100193.915000</td>\n",
       "      <td>0.000000</td>\n",
       "    </tr>\n",
       "    <tr>\n",
       "      <th>75%</th>\n",
       "      <td>7500.25000</td>\n",
       "      <td>1.575323e+07</td>\n",
       "      <td>718.000000</td>\n",
       "      <td>44.000000</td>\n",
       "      <td>7.000000</td>\n",
       "      <td>127644.240000</td>\n",
       "      <td>2.000000</td>\n",
       "      <td>1.00000</td>\n",
       "      <td>1.000000</td>\n",
       "      <td>149388.247500</td>\n",
       "      <td>0.000000</td>\n",
       "    </tr>\n",
       "    <tr>\n",
       "      <th>max</th>\n",
       "      <td>10000.00000</td>\n",
       "      <td>1.581569e+07</td>\n",
       "      <td>850.000000</td>\n",
       "      <td>92.000000</td>\n",
       "      <td>10.000000</td>\n",
       "      <td>250898.090000</td>\n",
       "      <td>4.000000</td>\n",
       "      <td>1.00000</td>\n",
       "      <td>1.000000</td>\n",
       "      <td>199992.480000</td>\n",
       "      <td>1.000000</td>\n",
       "    </tr>\n",
       "  </tbody>\n",
       "</table>\n",
       "</div>"
      ],
      "text/plain": [
       "         RowNumber    CustomerId   CreditScore           Age       Tenure  \\\n",
       "count  10000.00000  1.000000e+04  10000.000000  10000.000000  9091.000000   \n",
       "mean    5000.50000  1.569094e+07    650.528800     38.921800     4.997690   \n",
       "std     2886.89568  7.193619e+04     96.653299     10.487806     2.894723   \n",
       "min        1.00000  1.556570e+07    350.000000     18.000000     0.000000   \n",
       "25%     2500.75000  1.562853e+07    584.000000     32.000000     2.000000   \n",
       "50%     5000.50000  1.569074e+07    652.000000     37.000000     5.000000   \n",
       "75%     7500.25000  1.575323e+07    718.000000     44.000000     7.000000   \n",
       "max    10000.00000  1.581569e+07    850.000000     92.000000    10.000000   \n",
       "\n",
       "             Balance  NumOfProducts    HasCrCard  IsActiveMember  \\\n",
       "count   10000.000000   10000.000000  10000.00000    10000.000000   \n",
       "mean    76485.889288       1.530200      0.70550        0.515100   \n",
       "std     62397.405202       0.581654      0.45584        0.499797   \n",
       "min         0.000000       1.000000      0.00000        0.000000   \n",
       "25%         0.000000       1.000000      0.00000        0.000000   \n",
       "50%     97198.540000       1.000000      1.00000        1.000000   \n",
       "75%    127644.240000       2.000000      1.00000        1.000000   \n",
       "max    250898.090000       4.000000      1.00000        1.000000   \n",
       "\n",
       "       EstimatedSalary        Exited  \n",
       "count     10000.000000  10000.000000  \n",
       "mean     100090.239881      0.203700  \n",
       "std       57510.492818      0.402769  \n",
       "min          11.580000      0.000000  \n",
       "25%       51002.110000      0.000000  \n",
       "50%      100193.915000      0.000000  \n",
       "75%      149388.247500      0.000000  \n",
       "max      199992.480000      1.000000  "
      ]
     },
     "execution_count": 6,
     "metadata": {},
     "output_type": "execute_result"
    }
   ],
   "source": [
    "data.describe()"
   ]
  },
  {
   "cell_type": "code",
   "execution_count": 7,
   "metadata": {},
   "outputs": [
    {
     "data": {
      "text/plain": [
       "RowNumber            0\n",
       "CustomerId           0\n",
       "Surname              0\n",
       "CreditScore          0\n",
       "Geography            0\n",
       "Gender               0\n",
       "Age                  0\n",
       "Tenure             909\n",
       "Balance              0\n",
       "NumOfProducts        0\n",
       "HasCrCard            0\n",
       "IsActiveMember       0\n",
       "EstimatedSalary      0\n",
       "Exited               0\n",
       "dtype: int64"
      ]
     },
     "execution_count": 7,
     "metadata": {},
     "output_type": "execute_result"
    }
   ],
   "source": [
    "data.isna().sum()"
   ]
  },
  {
   "cell_type": "code",
   "execution_count": 8,
   "metadata": {},
   "outputs": [
    {
     "data": {
      "text/plain": [
       "0"
      ]
     },
     "execution_count": 8,
     "metadata": {},
     "output_type": "execute_result"
    }
   ],
   "source": [
    "data.duplicated().sum()"
   ]
  },
  {
   "cell_type": "markdown",
   "metadata": {},
   "source": [
    "Приведем название столбцов в змеиный регистр."
   ]
  },
  {
   "cell_type": "code",
   "execution_count": 10,
   "metadata": {},
   "outputs": [],
   "source": [
    "data = data.rename(columns=lambda x: re.sub(r'(?<!^)([A-Z])', r'_\\1', x).lower())"
   ]
  },
  {
   "cell_type": "code",
   "execution_count": 11,
   "metadata": {},
   "outputs": [
    {
     "name": "stdout",
     "output_type": "stream",
     "text": [
      "0    7963\n",
      "1    2037\n",
      "Name: exited, dtype: int64\n"
     ]
    },
    {
     "data": {
      "image/png": "[encoded data removed]",
      "text/plain": [
       "<Figure size 432x288 with 1 Axes>"
      ]
     },
     "metadata": {
      "needs_background": "light"
     },
     "output_type": "display_data"
    }
   ],
   "source": [
    "print(data['exited'].value_counts())\n",
    "data['exited'].hist();"
   ]
  },
  {
   "cell_type": "code",
   "execution_count": 12,
   "metadata": {},
   "outputs": [
    {
     "data": {
      "text/plain": [
       "array([ 2.,  1.,  8.,  7.,  4.,  6.,  3., 10.,  5.,  9.,  0., nan])"
      ]
     },
     "execution_count": 12,
     "metadata": {},
     "output_type": "execute_result"
    }
   ],
   "source": [
    "data['tenure'].unique()"
   ]
  },
  {
   "cell_type": "markdown",
   "metadata": {},
   "source": [
    "Столбец tenure содержит пропуски. Возможно это связано с тем что клиент пользуется услугами банка менее 1 года, а возможно данные просто не были заполнены. Чтобы не терять часть данных датасета, заменим пропуски медианным значением и приведем в целочисленный вид."
   ]
  },
  {
   "cell_type": "code",
   "execution_count": 14,
   "metadata": {},
   "outputs": [
    {
     "data": {
      "text/plain": [
       "0"
      ]
     },
     "execution_count": 14,
     "metadata": {},
     "output_type": "execute_result"
    }
   ],
   "source": [
    "data['tenure'] = data['tenure'].mask(data['tenure'].isna(), np.random.randint(0, 10, size=len(data)))\n",
    "data['tenure'].isna().sum()"
   ]
  },
  {
   "cell_type": "code",
   "execution_count": 15,
   "metadata": {},
   "outputs": [],
   "source": [
    "data['tenure'] = data['tenure'].astype('int')"
   ]
  },
  {
   "cell_type": "markdown",
   "metadata": {},
   "source": [
    "## Исследование задачи"
   ]
  },
  {
   "cell_type": "markdown",
   "metadata": {},
   "source": [
    "Так как столбцы row_number, customer_id и surname не несут в себе информации, необходимой для дальнейшей классификации, удалим их."
   ]
  },
  {
   "cell_type": "code",
   "execution_count": 16,
   "metadata": {},
   "outputs": [],
   "source": [
    "data = data.drop(['row_number', 'customer_id', 'surname'], axis=1)"
   ]
  },
  {
   "cell_type": "code",
   "execution_count": 17,
   "metadata": {},
   "outputs": [
    {
     "data": {
      "text/html": [
       "<div>\n",
       "<style scoped>\n",
       "    .dataframe tbody tr th:only-of-type {\n",
       "        vertical-align: middle;\n",
       "    }\n",
       "\n",
       "    .dataframe tbody tr th {\n",
       "        vertical-align: top;\n",
       "    }\n",
       "\n",
       "    .dataframe thead th {\n",
       "        text-align: right;\n",
       "    }\n",
       "</style>\n",
       "<table border=\"1\" class=\"dataframe\">\n",
       "  <thead>\n",
       "    <tr style=\"text-align: right;\">\n",
       "      <th></th>\n",
       "      <th>credit_score</th>\n",
       "      <th>geography</th>\n",
       "      <th>gender</th>\n",
       "      <th>age</th>\n",
       "      <th>tenure</th>\n",
       "      <th>balance</th>\n",
       "      <th>num_of_products</th>\n",
       "      <th>has_cr_card</th>\n",
       "      <th>is_active_member</th>\n",
       "      <th>estimated_salary</th>\n",
       "      <th>exited</th>\n",
       "    </tr>\n",
       "  </thead>\n",
       "  <tbody>\n",
       "    <tr>\n",
       "      <th>0</th>\n",
       "      <td>619</td>\n",
       "      <td>France</td>\n",
       "      <td>Female</td>\n",
       "      <td>42</td>\n",
       "      <td>2</td>\n",
       "      <td>0.00</td>\n",
       "      <td>1</td>\n",
       "      <td>1</td>\n",
       "      <td>1</td>\n",
       "      <td>101348.88</td>\n",
       "      <td>1</td>\n",
       "    </tr>\n",
       "    <tr>\n",
       "      <th>1</th>\n",
       "      <td>608</td>\n",
       "      <td>Spain</td>\n",
       "      <td>Female</td>\n",
       "      <td>41</td>\n",
       "      <td>1</td>\n",
       "      <td>83807.86</td>\n",
       "      <td>1</td>\n",
       "      <td>0</td>\n",
       "      <td>1</td>\n",
       "      <td>112542.58</td>\n",
       "      <td>0</td>\n",
       "    </tr>\n",
       "    <tr>\n",
       "      <th>2</th>\n",
       "      <td>502</td>\n",
       "      <td>France</td>\n",
       "      <td>Female</td>\n",
       "      <td>42</td>\n",
       "      <td>8</td>\n",
       "      <td>159660.80</td>\n",
       "      <td>3</td>\n",
       "      <td>1</td>\n",
       "      <td>0</td>\n",
       "      <td>113931.57</td>\n",
       "      <td>1</td>\n",
       "    </tr>\n",
       "    <tr>\n",
       "      <th>3</th>\n",
       "      <td>699</td>\n",
       "      <td>France</td>\n",
       "      <td>Female</td>\n",
       "      <td>39</td>\n",
       "      <td>1</td>\n",
       "      <td>0.00</td>\n",
       "      <td>2</td>\n",
       "      <td>0</td>\n",
       "      <td>0</td>\n",
       "      <td>93826.63</td>\n",
       "      <td>0</td>\n",
       "    </tr>\n",
       "    <tr>\n",
       "      <th>4</th>\n",
       "      <td>850</td>\n",
       "      <td>Spain</td>\n",
       "      <td>Female</td>\n",
       "      <td>43</td>\n",
       "      <td>2</td>\n",
       "      <td>125510.82</td>\n",
       "      <td>1</td>\n",
       "      <td>1</td>\n",
       "      <td>1</td>\n",
       "      <td>79084.10</td>\n",
       "      <td>0</td>\n",
       "    </tr>\n",
       "  </tbody>\n",
       "</table>\n",
       "</div>"
      ],
      "text/plain": [
       "   credit_score geography  gender  age  tenure    balance  num_of_products  \\\n",
       "0           619    France  Female   42       2       0.00                1   \n",
       "1           608     Spain  Female   41       1   83807.86                1   \n",
       "2           502    France  Female   42       8  159660.80                3   \n",
       "3           699    France  Female   39       1       0.00                2   \n",
       "4           850     Spain  Female   43       2  125510.82                1   \n",
       "\n",
       "   has_cr_card  is_active_member  estimated_salary  exited  \n",
       "0            1                 1         101348.88       1  \n",
       "1            0                 1         112542.58       0  \n",
       "2            1                 0         113931.57       1  \n",
       "3            0                 0          93826.63       0  \n",
       "4            1                 1          79084.10       0  "
      ]
     },
     "execution_count": 17,
     "metadata": {},
     "output_type": "execute_result"
    }
   ],
   "source": [
    "data.head()"
   ]
  },
  {
   "cell_type": "code",
   "execution_count": 18,
   "metadata": {
    "scrolled": false
   },
   "outputs": [
    {
     "name": "stdout",
     "output_type": "stream",
     "text": [
      "Количество значений в столбце credit_score\n",
      "850    233\n",
      "678     63\n",
      "655     54\n",
      "667     53\n",
      "705     53\n",
      "      ... \n",
      "412      1\n",
      "351      1\n",
      "365      1\n",
      "373      1\n",
      "423      1\n",
      "Name: credit_score, Length: 460, dtype: int64\n",
      "Количество значений в столбце geography\n",
      "France     5014\n",
      "Germany    2509\n",
      "Spain      2477\n",
      "Name: geography, dtype: int64\n",
      "Количество значений в столбце gender\n",
      "Male      5457\n",
      "Female    4543\n",
      "Name: gender, dtype: int64\n",
      "Количество значений в столбце age\n",
      "37    478\n",
      "38    477\n",
      "35    474\n",
      "36    456\n",
      "34    447\n",
      "     ... \n",
      "92      2\n",
      "88      1\n",
      "82      1\n",
      "85      1\n",
      "83      1\n",
      "Name: age, Length: 70, dtype: int64\n",
      "Количество значений в столбце tenure\n",
      "2     1050\n",
      "1     1046\n",
      "8     1028\n",
      "5     1026\n",
      "3     1013\n",
      "7     1013\n",
      "9      969\n",
      "4      968\n",
      "6      965\n",
      "0      476\n",
      "10     446\n",
      "Name: tenure, dtype: int64\n",
      "Количество значений в столбце balance\n",
      "0.00         3617\n",
      "105473.74       2\n",
      "130170.82       2\n",
      "72594.00        1\n",
      "139723.90       1\n",
      "             ... \n",
      "130306.49       1\n",
      "92895.56        1\n",
      "132005.77       1\n",
      "166287.85       1\n",
      "104001.38       1\n",
      "Name: balance, Length: 6382, dtype: int64\n",
      "Количество значений в столбце num_of_products\n",
      "1    5084\n",
      "2    4590\n",
      "3     266\n",
      "4      60\n",
      "Name: num_of_products, dtype: int64\n",
      "Количество значений в столбце has_cr_card\n",
      "1    7055\n",
      "0    2945\n",
      "Name: has_cr_card, dtype: int64\n",
      "Количество значений в столбце is_active_member\n",
      "1    5151\n",
      "0    4849\n",
      "Name: is_active_member, dtype: int64\n",
      "Количество значений в столбце estimated_salary\n",
      "24924.92     2\n",
      "109145.20    1\n",
      "59755.14     1\n",
      "1557.82      1\n",
      "117202.19    1\n",
      "            ..\n",
      "37674.47     1\n",
      "158043.11    1\n",
      "103792.53    1\n",
      "182266.01    1\n",
      "155061.97    1\n",
      "Name: estimated_salary, Length: 9999, dtype: int64\n",
      "Количество значений в столбце exited\n",
      "0    7963\n",
      "1    2037\n",
      "Name: exited, dtype: int64\n"
     ]
    }
   ],
   "source": [
    "def value_columns(data):\n",
    "    for column in data:\n",
    "        print('Количество значений в столбце', column)\n",
    "        print(data[column].value_counts())        \n",
    "value_columns(data)"
   ]
  },
  {
   "cell_type": "code",
   "execution_count": 19,
   "metadata": {},
   "outputs": [
    {
     "data": {
      "image/png": "[encoded data removed]",
      "text/plain": [
       "<Figure size 1080x1440 with 9 Axes>"
      ]
     },
     "metadata": {
      "needs_background": "light"
     },
     "output_type": "display_data"
    }
   ],
   "source": [
    "data.hist(figsize=(15, 20));"
   ]
  },
  {
   "cell_type": "markdown",
   "metadata": {},
   "source": [
    "При рассмотрении столбцов с признаками можно отметить, что в столбце с целевыми признаками наблюдается дисбаланс классов 4:1. В выборке представлены клиенты, где 79.63% - остались с банком, а 20.37% ушли от банка."
   ]
  },
  {
   "cell_type": "code",
   "execution_count": 22,
   "metadata": {},
   "outputs": [
    {
     "name": "stdout",
     "output_type": "stream",
     "text": [
      "['geography', 'gender']\n"
     ]
    }
   ],
   "source": [
    "features = data.drop('exited', axis=1)\n",
    "target = data['exited']\n",
    "\n",
    "features_train, features_valid_test, target_train, target_valid_test = train_test_split(\n",
    "     features, target, test_size=0.4, random_state=12345, stratify=target)\n",
    "features_valid, features_test, target_valid, target_test = train_test_split(\n",
    "     features_valid_test, target_valid_test, test_size=0.5, random_state=12345, stratify=target_valid_test)\n",
    "\n",
    "\n",
    "ohe_features_ridge = features_train.select_dtypes(include='object').columns.to_list()\n",
    "print(ohe_features_ridge)"
   ]
  },
  {
   "cell_type": "markdown",
   "metadata": {},
   "source": [
    "Превратим датасет в набор выборок для модели."
   ]
  },
  {
   "cell_type": "code",
   "execution_count": 24,
   "metadata": {},
   "outputs": [],
   "source": [
    "features = data.drop('exited', axis=1)\n",
    "target = data['exited']"
   ]
  },
  {
   "cell_type": "code",
   "execution_count": 25,
   "metadata": {},
   "outputs": [
    {
     "name": "stdout",
     "output_type": "stream",
     "text": [
      "Количество строк по классам: [1593  407]\n",
      "Количество строк по классам: [1592  408]\n",
      "Количество строк по классам: [4778 1222]\n"
     ]
    }
   ],
   "source": [
    "features_train, features_valid_test, target_train, target_valid_test = train_test_split(\n",
    "    features, target, test_size=0.4, random_state=12345, stratify=target)\n",
    "features_valid, features_test, target_valid, target_test = train_test_split(\n",
    "    features_valid_test, target_valid_test, test_size=0.5, random_state=12345, stratify=target_valid_test)\n",
    "print(f\"Количество строк по классам: {np.bincount(target_test)}\")\n",
    "print(f\"Количество строк по классам: {np.bincount(target_valid)}\")\n",
    "print(f\"Количество строк по классам: {np.bincount(target_train)}\")"
   ]
  },
  {
   "cell_type": "code",
   "execution_count": 26,
   "metadata": {},
   "outputs": [
    {
     "data": {
      "text/plain": [
       "0.6"
      ]
     },
     "execution_count": 26,
     "metadata": {},
     "output_type": "execute_result"
    }
   ],
   "source": [
    "len(features_train)/len(features)"
   ]
  },
  {
   "cell_type": "code",
   "execution_count": 27,
   "metadata": {},
   "outputs": [
    {
     "data": {
      "text/plain": [
       "0.2"
      ]
     },
     "execution_count": 27,
     "metadata": {},
     "output_type": "execute_result"
    }
   ],
   "source": [
    "len(features_valid)/len(features)"
   ]
  },
  {
   "cell_type": "code",
   "execution_count": 28,
   "metadata": {},
   "outputs": [
    {
     "data": {
      "text/plain": [
       "0.2"
      ]
     },
     "execution_count": 28,
     "metadata": {},
     "output_type": "execute_result"
    }
   ],
   "source": [
    "len(features_test)/len(features)"
   ]
  },
  {
   "cell_type": "code",
   "execution_count": 29,
   "metadata": {},
   "outputs": [],
   "source": [
    "features_train = pd.get_dummies(features_train, drop_first=True)\n",
    "features_valid = pd.get_dummies(features_valid, drop_first=True)\n",
    "features_test = pd.get_dummies(features_test, drop_first=True)"
   ]
  },
  {
   "cell_type": "markdown",
   "metadata": {},
   "source": [
    "Произведем масштабирование данных численных признаков."
   ]
  },
  {
   "cell_type": "code",
   "execution_count": 30,
   "metadata": {},
   "outputs": [],
   "source": [
    "pd.options.mode.chained_assignment = None\n",
    "numeric = ['credit_score', 'age', 'tenure', 'balance', 'num_of_products', 'estimated_salary']\n",
    "scaler = StandardScaler()\n",
    "scaler.fit(features_train[numeric]) \n",
    "features_train[numeric] = scaler.transform(features_train[numeric])\n",
    "features_valid[numeric] = scaler.transform(features_valid[numeric])\n",
    "features_test[numeric] = scaler.transform(features_test[numeric])"
   ]
  },
  {
   "cell_type": "code",
   "execution_count": 31,
   "metadata": {},
   "outputs": [
    {
     "data": {
      "text/html": [
       "<div>\n",
       "<style scoped>\n",
       "    .dataframe tbody tr th:only-of-type {\n",
       "        vertical-align: middle;\n",
       "    }\n",
       "\n",
       "    .dataframe tbody tr th {\n",
       "        vertical-align: top;\n",
       "    }\n",
       "\n",
       "    .dataframe thead th {\n",
       "        text-align: right;\n",
       "    }\n",
       "</style>\n",
       "<table border=\"1\" class=\"dataframe\">\n",
       "  <thead>\n",
       "    <tr style=\"text-align: right;\">\n",
       "      <th></th>\n",
       "      <th>credit_score</th>\n",
       "      <th>age</th>\n",
       "      <th>tenure</th>\n",
       "      <th>balance</th>\n",
       "      <th>num_of_products</th>\n",
       "      <th>has_cr_card</th>\n",
       "      <th>is_active_member</th>\n",
       "      <th>estimated_salary</th>\n",
       "      <th>geography_Germany</th>\n",
       "      <th>geography_Spain</th>\n",
       "      <th>gender_Male</th>\n",
       "    </tr>\n",
       "  </thead>\n",
       "  <tbody>\n",
       "    <tr>\n",
       "      <th>2837</th>\n",
       "      <td>-1.040434</td>\n",
       "      <td>0.953312</td>\n",
       "      <td>0.356662</td>\n",
       "      <td>0.774657</td>\n",
       "      <td>-0.914708</td>\n",
       "      <td>0</td>\n",
       "      <td>1</td>\n",
       "      <td>-0.119110</td>\n",
       "      <td>1</td>\n",
       "      <td>0</td>\n",
       "      <td>0</td>\n",
       "    </tr>\n",
       "    <tr>\n",
       "      <th>9925</th>\n",
       "      <td>0.454006</td>\n",
       "      <td>-0.095244</td>\n",
       "      <td>0.702097</td>\n",
       "      <td>1.910540</td>\n",
       "      <td>-0.914708</td>\n",
       "      <td>1</td>\n",
       "      <td>1</td>\n",
       "      <td>-0.258658</td>\n",
       "      <td>0</td>\n",
       "      <td>0</td>\n",
       "      <td>0</td>\n",
       "    </tr>\n",
       "    <tr>\n",
       "      <th>8746</th>\n",
       "      <td>0.103585</td>\n",
       "      <td>-0.476537</td>\n",
       "      <td>1.047532</td>\n",
       "      <td>0.481608</td>\n",
       "      <td>0.820981</td>\n",
       "      <td>0</td>\n",
       "      <td>1</td>\n",
       "      <td>1.422836</td>\n",
       "      <td>0</td>\n",
       "      <td>0</td>\n",
       "      <td>1</td>\n",
       "    </tr>\n",
       "    <tr>\n",
       "      <th>660</th>\n",
       "      <td>-0.184996</td>\n",
       "      <td>0.190726</td>\n",
       "      <td>1.047532</td>\n",
       "      <td>0.088439</td>\n",
       "      <td>-0.914708</td>\n",
       "      <td>1</td>\n",
       "      <td>1</td>\n",
       "      <td>-1.160427</td>\n",
       "      <td>1</td>\n",
       "      <td>0</td>\n",
       "      <td>0</td>\n",
       "    </tr>\n",
       "    <tr>\n",
       "      <th>3610</th>\n",
       "      <td>-0.720933</td>\n",
       "      <td>1.620574</td>\n",
       "      <td>-1.370514</td>\n",
       "      <td>0.879129</td>\n",
       "      <td>-0.914708</td>\n",
       "      <td>1</td>\n",
       "      <td>0</td>\n",
       "      <td>0.113236</td>\n",
       "      <td>0</td>\n",
       "      <td>0</td>\n",
       "      <td>0</td>\n",
       "    </tr>\n",
       "    <tr>\n",
       "      <th>...</th>\n",
       "      <td>...</td>\n",
       "      <td>...</td>\n",
       "      <td>...</td>\n",
       "      <td>...</td>\n",
       "      <td>...</td>\n",
       "      <td>...</td>\n",
       "      <td>...</td>\n",
       "      <td>...</td>\n",
       "      <td>...</td>\n",
       "      <td>...</td>\n",
       "      <td>...</td>\n",
       "    </tr>\n",
       "    <tr>\n",
       "      <th>6172</th>\n",
       "      <td>-0.844611</td>\n",
       "      <td>0.381372</td>\n",
       "      <td>0.011227</td>\n",
       "      <td>0.180068</td>\n",
       "      <td>4.292357</td>\n",
       "      <td>1</td>\n",
       "      <td>1</td>\n",
       "      <td>0.117350</td>\n",
       "      <td>1</td>\n",
       "      <td>0</td>\n",
       "      <td>1</td>\n",
       "    </tr>\n",
       "    <tr>\n",
       "      <th>2360</th>\n",
       "      <td>-1.359935</td>\n",
       "      <td>0.190726</td>\n",
       "      <td>0.011227</td>\n",
       "      <td>0.547724</td>\n",
       "      <td>-0.914708</td>\n",
       "      <td>1</td>\n",
       "      <td>0</td>\n",
       "      <td>-0.192524</td>\n",
       "      <td>1</td>\n",
       "      <td>0</td>\n",
       "      <td>0</td>\n",
       "    </tr>\n",
       "    <tr>\n",
       "      <th>4499</th>\n",
       "      <td>-1.174418</td>\n",
       "      <td>0.476696</td>\n",
       "      <td>-0.334208</td>\n",
       "      <td>0.727840</td>\n",
       "      <td>-0.914708</td>\n",
       "      <td>0</td>\n",
       "      <td>0</td>\n",
       "      <td>0.531933</td>\n",
       "      <td>1</td>\n",
       "      <td>0</td>\n",
       "      <td>0</td>\n",
       "    </tr>\n",
       "    <tr>\n",
       "      <th>9162</th>\n",
       "      <td>0.155118</td>\n",
       "      <td>2.287837</td>\n",
       "      <td>0.702097</td>\n",
       "      <td>0.449382</td>\n",
       "      <td>-0.914708</td>\n",
       "      <td>1</td>\n",
       "      <td>1</td>\n",
       "      <td>-1.307769</td>\n",
       "      <td>1</td>\n",
       "      <td>0</td>\n",
       "      <td>1</td>\n",
       "    </tr>\n",
       "    <tr>\n",
       "      <th>700</th>\n",
       "      <td>1.031168</td>\n",
       "      <td>-0.667183</td>\n",
       "      <td>0.011227</td>\n",
       "      <td>-1.219673</td>\n",
       "      <td>0.820981</td>\n",
       "      <td>1</td>\n",
       "      <td>0</td>\n",
       "      <td>-0.083302</td>\n",
       "      <td>0</td>\n",
       "      <td>0</td>\n",
       "      <td>0</td>\n",
       "    </tr>\n",
       "  </tbody>\n",
       "</table>\n",
       "<p>6000 rows × 11 columns</p>\n",
       "</div>"
      ],
      "text/plain": [
       "      credit_score       age    tenure   balance  num_of_products  \\\n",
       "2837     -1.040434  0.953312  0.356662  0.774657        -0.914708   \n",
       "9925      0.454006 -0.095244  0.702097  1.910540        -0.914708   \n",
       "8746      0.103585 -0.476537  1.047532  0.481608         0.820981   \n",
       "660      -0.184996  0.190726  1.047532  0.088439        -0.914708   \n",
       "3610     -0.720933  1.620574 -1.370514  0.879129        -0.914708   \n",
       "...            ...       ...       ...       ...              ...   \n",
       "6172     -0.844611  0.381372  0.011227  0.180068         4.292357   \n",
       "2360     -1.359935  0.190726  0.011227  0.547724        -0.914708   \n",
       "4499     -1.174418  0.476696 -0.334208  0.727840        -0.914708   \n",
       "9162      0.155118  2.287837  0.702097  0.449382        -0.914708   \n",
       "700       1.031168 -0.667183  0.011227 -1.219673         0.820981   \n",
       "\n",
       "      has_cr_card  is_active_member  estimated_salary  geography_Germany  \\\n",
       "2837            0                 1         -0.119110                  1   \n",
       "9925            1                 1         -0.258658                  0   \n",
       "8746            0                 1          1.422836                  0   \n",
       "660             1                 1         -1.160427                  1   \n",
       "3610            1                 0          0.113236                  0   \n",
       "...           ...               ...               ...                ...   \n",
       "6172            1                 1          0.117350                  1   \n",
       "2360            1                 0         -0.192524                  1   \n",
       "4499            0                 0          0.531933                  1   \n",
       "9162            1                 1         -1.307769                  1   \n",
       "700             1                 0         -0.083302                  0   \n",
       "\n",
       "      geography_Spain  gender_Male  \n",
       "2837                0            0  \n",
       "9925                0            0  \n",
       "8746                0            1  \n",
       "660                 0            0  \n",
       "3610                0            0  \n",
       "...               ...          ...  \n",
       "6172                0            1  \n",
       "2360                0            0  \n",
       "4499                0            0  \n",
       "9162                0            1  \n",
       "700                 0            0  \n",
       "\n",
       "[6000 rows x 11 columns]"
      ]
     },
     "metadata": {},
     "output_type": "display_data"
    }
   ],
   "source": [
    "display(features_train)"
   ]
  },
  {
   "cell_type": "markdown",
   "metadata": {},
   "source": [
    "**Решающее дерево**"
   ]
  },
  {
   "cell_type": "code",
   "execution_count": 32,
   "metadata": {},
   "outputs": [
    {
     "name": "stdout",
     "output_type": "stream",
     "text": [
      "F1-мера лучшей модели:  0.5953757225433526\n",
      "Глубина дерева лучшей модели:  7\n"
     ]
    }
   ],
   "source": [
    "best_tree = None\n",
    "best_f1 = 0\n",
    "best_depth = 0\n",
    "for depth in range(1, 10):\n",
    "    model = DecisionTreeClassifier(random_state=12345, max_depth=depth)\n",
    "    model.fit(features_train, target_train)\n",
    "    predictions_valid = model.predict(features_valid)\n",
    "    f1 = f1_score(target_valid,predictions_valid)\n",
    "    if f1 > best_f1:\n",
    "        best_tree = model\n",
    "        best_f1 = f1\n",
    "        best_depth = depth\n",
    "print('F1-мера лучшей модели: ', best_f1)\n",
    "print('Глубина дерева лучшей модели: ', best_depth)   "
   ]
  },
  {
   "cell_type": "markdown",
   "metadata": {},
   "source": [
    "**Случайный лес**"
   ]
  },
  {
   "cell_type": "code",
   "execution_count": 33,
   "metadata": {},
   "outputs": [
    {
     "name": "stderr",
     "output_type": "stream",
     "text": [
      "100%|██████████| 9/9 [00:50<00:00,  5.64s/it]"
     ]
    },
    {
     "name": "stdout",
     "output_type": "stream",
     "text": [
      "F1-мера лучшей модели:  0.6262924667651404\n",
      "Количество деревьев лучшей модели:  80\n",
      "Глубина деревьев лучшей модели:  17\n"
     ]
    },
    {
     "name": "stderr",
     "output_type": "stream",
     "text": [
      "\n"
     ]
    }
   ],
   "source": [
    "best_forest = None\n",
    "best_f1 = 0\n",
    "best_est = 0\n",
    "best_depth = 0\n",
    "for est in tqdm(range(10, 100, 10)):\n",
    "    for depth in range(1, 21):\n",
    "        model = RandomForestClassifier(random_state=12345, n_estimators=est, max_depth=depth)\n",
    "        model.fit(features_train, target_train)\n",
    "        predictions = model.predict(features_valid) \n",
    "        f1 = f1_score(target_valid, predictions)\n",
    "        if f1 > best_f1:\n",
    "            best_forest = model\n",
    "            best_f1 = f1\n",
    "            best_est = est\n",
    "            best_depth = depth\n",
    "print('F1-мера лучшей модели: ', best_f1)\n",
    "print('Количество деревьев лучшей модели: ', best_est)\n",
    "print('Глубина деревьев лучшей модели: ', best_depth)"
   ]
  },
  {
   "cell_type": "markdown",
   "metadata": {},
   "source": [
    "**Логистическая регрессия**"
   ]
  },
  {
   "cell_type": "code",
   "execution_count": 34,
   "metadata": {},
   "outputs": [
    {
     "name": "stdout",
     "output_type": "stream",
     "text": [
      "F1 модели логистической регрессии: 0.3076923076923077\n",
      "ROC_auc: 0.5859813774756133\n"
     ]
    }
   ],
   "source": [
    "model = LogisticRegression(random_state=12345, solver='lbfgs')\n",
    "model.fit(features_train, target_train)\n",
    "predictions_valid = model.predict(features_valid)\n",
    "f1 = f1_score(target_valid, predictions_valid)\n",
    "roc_auc = roc_auc_score(target_valid, predictions_valid)\n",
    "print('F1 модели логистической регрессии:', f1)\n",
    "print('ROC_auc:', roc_auc)"
   ]
  },
  {
   "cell_type": "markdown",
   "metadata": {},
   "source": [
    "#### **Вывод**\n",
    "В данном разделе мы обучили 3 типа моделей на данных с учетом имеющегося дисбаланса. Метрика F1 модели логистической регрессии существенно ниже, чем у моделей дерева решений и случайного леса.\n",
    "На валидационной выборке наилучшее качество (F1=0,62) продемонстрировала модель случайного леса с гиперпараметрами: количество деревьев - 40, максимальная глубина деревьев: 13."
   ]
  },
  {
   "cell_type": "markdown",
   "metadata": {},
   "source": [
    "## Борьба с дисбалансом"
   ]
  },
  {
   "cell_type": "markdown",
   "metadata": {},
   "source": [
    "Для решения проблемы дисбаланса используем и сравним результаты трех методов: взвешивание классов, увеличение выборки, уменьшение выборки и попробуем добиться значения F1 выше, чем 0,59."
   ]
  },
  {
   "cell_type": "markdown",
   "metadata": {},
   "source": [
    "**Взвешивание классов**"
   ]
  },
  {
   "cell_type": "markdown",
   "metadata": {},
   "source": [
    "1. Решающее дерево"
   ]
  },
  {
   "cell_type": "code",
   "execution_count": 35,
   "metadata": {},
   "outputs": [
    {
     "name": "stdout",
     "output_type": "stream",
     "text": [
      "F1-мера лучшей модели:  0.575925925925926\n",
      "Глубина дерева лучшей модели:  6\n",
      "AUC-ROC модели: 0.7883773955562126\n"
     ]
    },
    {
     "data": {
      "image/png": "[encoded data removed]",
      "text/plain": [
       "<Figure size 648x432 with 1 Axes>"
      ]
     },
     "metadata": {
      "needs_background": "light"
     },
     "output_type": "display_data"
    }
   ],
   "source": [
    "best_tree = None\n",
    "best_f1 = 0\n",
    "best_depth = 0\n",
    "for depth in range(1, 10):\n",
    "    model = DecisionTreeClassifier(random_state=12345, max_depth=depth, class_weight='balanced')\n",
    "    model.fit(features_train, target_train)\n",
    "    predictions_valid = model.predict(features_valid)\n",
    "    f1 = f1_score(target_valid, predictions_valid)\n",
    "    if f1 > best_f1:\n",
    "        best_tree = model\n",
    "        best_f1 = f1\n",
    "        best_depth = depth\n",
    "print('F1-мера лучшей модели: ', best_f1)\n",
    "print('Глубина дерева лучшей модели: ', best_depth)  \n",
    "\n",
    "probabilities_valid = model.predict_proba(features_valid)\n",
    "probabilities_one_valid = probabilities_valid[:, 1]\n",
    "fpr_tree, tpr_tree, thresholds = roc_curve(target_valid, probabilities_one_valid)\n",
    "auc_roc = roc_auc_score(target_valid, probabilities_one_valid)\n",
    "print('AUC-ROC модели:', auc_roc)\n",
    "\n",
    "plt.figure(figsize=(9,6))\n",
    "plt.plot(fpr_tree, tpr_tree)\n",
    "plt.plot([0, 1], [0, 1], linestyle='--')\n",
    "plt.ylim([0.0, 1.0])\n",
    "plt.xlim([0.0, 1.0])\n",
    "plt.xlabel('False Positive Rate')\n",
    "plt.ylabel('True Positive Rate')\n",
    "plt.title('ROC-кривая')\n",
    "plt.show()"
   ]
  },
  {
   "cell_type": "markdown",
   "metadata": {},
   "source": [
    "2. Случайный лес"
   ]
  },
  {
   "cell_type": "code",
   "execution_count": 36,
   "metadata": {},
   "outputs": [
    {
     "name": "stderr",
     "output_type": "stream",
     "text": [
      "100%|██████████| 24/24 [16:31<00:00, 41.32s/it]\n"
     ]
    },
    {
     "name": "stdout",
     "output_type": "stream",
     "text": [
      "F1-мера лучшей модели:  0.6513233601841196\n",
      "Количество деревьев лучшей модели:  180\n",
      "Глубина деревьев лучшей модели:  9\n",
      "AUC-ROC модели: 0.8651468124938417\n"
     ]
    },
    {
     "data": {
      "image/png": "[encoded data removed]",
      "text/plain": [
       "<Figure size 648x432 with 1 Axes>"
      ]
     },
     "metadata": {
      "needs_background": "light"
     },
     "output_type": "display_data"
    }
   ],
   "source": [
    "best_forest = None\n",
    "best_f1 = 0\n",
    "best_depth = 0\n",
    "best_est = 0\n",
    "for est in tqdm(range(10, 250, 10)):\n",
    "    for depth in range(1, 50):\n",
    "        model = RandomForestClassifier(random_state=12345, n_estimators=est, max_depth=depth, class_weight='balanced')\n",
    "        model.fit(features_train, target_train)\n",
    "        predictions_valid = model.predict(features_valid)\n",
    "        f1 = f1_score(target_valid, predictions_valid)\n",
    "        if f1 > best_f1:\n",
    "            best_forest = model\n",
    "            best_f1 = f1\n",
    "            best_est = est\n",
    "            best_depth = depth\n",
    "print('F1-мера лучшей модели: ', best_f1)\n",
    "print('Количество деревьев лучшей модели: ', best_est)\n",
    "print('Глубина деревьев лучшей модели: ', best_depth)            \n",
    "\n",
    "probabilities_valid = model.predict_proba(features_valid)\n",
    "probabilities_one_valid = probabilities_valid[:, 1]\n",
    "fpr_forest, tpr_forest, thresholds = roc_curve(target_valid, probabilities_one_valid)\n",
    "auc_roc = roc_auc_score(target_valid, probabilities_one_valid)\n",
    "print('AUC-ROC модели:', auc_roc)\n",
    "\n",
    "plt.figure(figsize=(9,6))\n",
    "plt.plot(fpr_forest, tpr_forest)\n",
    "plt.plot([0, 1], [0, 1], linestyle='--')\n",
    "plt.ylim([0.0, 1.0])\n",
    "plt.xlim([0.0, 1.0])\n",
    "plt.xlabel('False Positive Rate')\n",
    "plt.ylabel('True Positive Rate')\n",
    "plt.title('ROC-кривая')\n",
    "plt.show()"
   ]
  },
  {
   "cell_type": "markdown",
   "metadata": {},
   "source": [
    "3. Логистическая регрессия"
   ]
  },
  {
   "cell_type": "code",
   "execution_count": 37,
   "metadata": {},
   "outputs": [
    {
     "name": "stdout",
     "output_type": "stream",
     "text": [
      "F1 модели логистической регрессии: 0.5285338015803336\n",
      "ROC_auc: 0.7338222977633265\n",
      "AUC-ROC модели: 0.7936342250468027\n"
     ]
    },
    {
     "data": {
      "image/png": "[encoded data removed]",
      "text/plain": [
       "<Figure size 648x432 with 1 Axes>"
      ]
     },
     "metadata": {
      "needs_background": "light"
     },
     "output_type": "display_data"
    }
   ],
   "source": [
    "model = LogisticRegression(random_state=12345, solver='liblinear', class_weight='balanced')\n",
    "model.fit(features_train, target_train)\n",
    "predictions_valid = model.predict(features_valid)\n",
    "f1 = f1_score(target_valid, predictions_valid)\n",
    "roc_auc = roc_auc_score(target_valid, predictions_valid)\n",
    "print('F1 модели логистической регрессии:', f1)\n",
    "print('ROC_auc:', roc_auc)\n",
    "\n",
    "probabilities_valid = model.predict_proba(features_valid)\n",
    "probabilities_one_valid = probabilities_valid[:, 1]\n",
    "fpr_log, tpr_log, thresholds = roc_curve(target_valid, probabilities_one_valid)\n",
    "auc_roc = roc_auc_score(target_valid, probabilities_one_valid)\n",
    "print('AUC-ROC модели:', auc_roc)\n",
    "\n",
    "plt.figure(figsize=(9,6))\n",
    "plt.plot(fpr_log, tpr_log)\n",
    "plt.plot([0, 1], [0, 1], linestyle='--')\n",
    "plt.ylim([0.0, 1.0])\n",
    "plt.xlim([0.0, 1.0])\n",
    "plt.xlabel('False Positive Rate')\n",
    "plt.ylabel('True Positive Rate')\n",
    "plt.title('ROC-кривая')\n",
    "plt.show()"
   ]
  },
  {
   "cell_type": "code",
   "execution_count": 38,
   "metadata": {},
   "outputs": [
    {
     "data": {
      "text/plain": [
       "<Figure size 432x288 with 0 Axes>"
      ]
     },
     "metadata": {},
     "output_type": "display_data"
    },
    {
     "data": {
      "image/png": "[encoded data removed]",
      "text/plain": [
       "<Figure size 648x432 with 1 Axes>"
      ]
     },
     "metadata": {
      "needs_background": "light"
     },
     "output_type": "display_data"
    }
   ],
   "source": [
    "plt.figure()\n",
    "plt.figure(figsize=(9,6));\n",
    "plt.plot([0, 1], [0, 1], linestyle='--')\n",
    "plt.xlim([0.0, 1.0])\n",
    "plt.ylim([0.0, 1.0])\n",
    "plt.plot(fpr_log, tpr_log, label = 'Логистическая регрессия')\n",
    "plt.plot(fpr_tree, tpr_tree, label = 'Решающее дерево')\n",
    "plt.plot(fpr_forest, tpr_forest, label = 'Случайный лес')\n",
    "plt.xlabel('False Positive Rate')\n",
    "plt.ylabel('True Positive Rate')\n",
    "plt.title('ROC-кривая')\n",
    "plt.show()"
   ]
  },
  {
   "cell_type": "markdown",
   "metadata": {},
   "source": [
    "Использование взвешивания классов существенно улучшило показатель метрики F1 у всех моделей, но у случайного леса также  остались более высокие значения метрик."
   ]
  },
  {
   "cell_type": "markdown",
   "metadata": {},
   "source": [
    "**Увеличение выборки**"
   ]
  },
  {
   "cell_type": "code",
   "execution_count": 39,
   "metadata": {},
   "outputs": [
    {
     "name": "stdout",
     "output_type": "stream",
     "text": [
      "1    0.50569\n",
      "0    0.49431\n",
      "Name: exited, dtype: float64\n"
     ]
    },
    {
     "data": {
      "image/png": "[encoded data removed]",
      "text/plain": [
       "<Figure size 648x360 with 1 Axes>"
      ]
     },
     "metadata": {
      "needs_background": "light"
     },
     "output_type": "display_data"
    }
   ],
   "source": [
    "def upsample(features, target, repeat):\n",
    "    features_zeros = features[target == 0]\n",
    "    features_ones = features[target == 1]\n",
    "    target_zeros = target[target == 0]\n",
    "    target_ones = target[target == 1]\n",
    "    \n",
    "    features_upsampled = pd.concat([features_zeros] + [features_ones] * repeat)\n",
    "    target_upsampled = pd.concat([target_zeros] + [target_ones] * repeat)\n",
    "    features_upsampled, target_upsampled = shuffle(\n",
    "        features_upsampled, target_upsampled, random_state=12345)\n",
    "    return features_upsampled, target_upsampled\n",
    "features_upsampled, target_upsampled = upsample(features_train, target_train, 4)\n",
    "print(target_upsampled.value_counts(normalize = 1))\n",
    "target_upsampled.hist(figsize=(9, 5));"
   ]
  },
  {
   "cell_type": "markdown",
   "metadata": {},
   "source": [
    "1. Решающее дерево"
   ]
  },
  {
   "cell_type": "code",
   "execution_count": 40,
   "metadata": {},
   "outputs": [
    {
     "name": "stdout",
     "output_type": "stream",
     "text": [
      "F1-мера лучшей модели:  0.575925925925926\n",
      "Глубина дерева лучшей модели:  6\n",
      "AUC-ROC модели: 0.7909030446349394\n"
     ]
    },
    {
     "data": {
      "image/png": "[encoded data removed]",
      "text/plain": [
       "<Figure size 648x432 with 1 Axes>"
      ]
     },
     "metadata": {
      "needs_background": "light"
     },
     "output_type": "display_data"
    }
   ],
   "source": [
    "best_tree = None\n",
    "best_f1 = 0\n",
    "best_depth = 0\n",
    "for depth in range(1,10):\n",
    "    model = DecisionTreeClassifier(random_state=12345, max_depth=depth)\n",
    "    model.fit(features_upsampled, target_upsampled)\n",
    "    predictions_valid = model.predict(features_valid)\n",
    "    f1 = f1_score(target_valid, predictions_valid)\n",
    "    if f1 > best_f1:\n",
    "        best_tree = model\n",
    "        best_f1 = f1\n",
    "        best_depth = depth\n",
    "print('F1-мера лучшей модели: ', best_f1)\n",
    "print('Глубина дерева лучшей модели: ', best_depth)  \n",
    "\n",
    "probabilities_valid = model.predict_proba(features_valid)\n",
    "probabilities_one_valid = probabilities_valid[:, 1]\n",
    "fpr_tree, tpr_tree, thresholds = roc_curve(target_valid, probabilities_one_valid)\n",
    "auc_roc = roc_auc_score(target_valid, probabilities_one_valid)\n",
    "print('AUC-ROC модели:', auc_roc)\n",
    "\n",
    "plt.figure(figsize=(9,6))\n",
    "plt.plot(fpr_tree, tpr_tree)\n",
    "plt.plot([0, 1], [0, 1], linestyle='--')\n",
    "plt.ylim([0.0, 1.0])\n",
    "plt.xlim([0.0, 1.0])\n",
    "plt.xlabel('False Positive Rate')\n",
    "plt.ylabel('True Positive Rate')\n",
    "plt.title('ROC-кривая')\n",
    "plt.show()"
   ]
  },
  {
   "cell_type": "markdown",
   "metadata": {},
   "source": [
    "2. Случайный лес"
   ]
  },
  {
   "cell_type": "code",
   "execution_count": 41,
   "metadata": {},
   "outputs": [
    {
     "name": "stdout",
     "output_type": "stream",
     "text": [
      "F1-мера лучшей модели:  0.6519337016574587\n",
      "Количество деревьев лучшей модели:  220\n",
      "Глубина деревьев лучшей модели:  10\n",
      "AUC-ROC модели: 0.8636919277761355\n"
     ]
    },
    {
     "data": {
      "image/png": "[encoded data removed]",
      "text/plain": [
       "<Figure size 648x432 with 1 Axes>"
      ]
     },
     "metadata": {
      "needs_background": "light"
     },
     "output_type": "display_data"
    }
   ],
   "source": [
    "best_forest = None\n",
    "best_f1 = 0\n",
    "best_est = 0\n",
    "best_depth = 0\n",
    "for est in range(10, 250, 10):\n",
    "    for depth in range(1, 50):\n",
    "        model = RandomForestClassifier(random_state=12345, n_estimators=est, max_depth=depth)\n",
    "        model.fit(features_upsampled, target_upsampled)\n",
    "        predictions_valid = model.predict(features_valid)\n",
    "        f1 = f1_score(target_valid, predictions_valid)\n",
    "        if f1 > best_f1:\n",
    "            best_forest = model\n",
    "            best_f1 = f1\n",
    "            best_est = est\n",
    "            best_depth = depth\n",
    "print('F1-мера лучшей модели: ', best_f1)\n",
    "print('Количество деревьев лучшей модели: ', best_est)\n",
    "print('Глубина деревьев лучшей модели: ', best_depth) \n",
    "\n",
    "probabilities_valid = model.predict_proba(features_valid)\n",
    "probabilities_one_valid = probabilities_valid[:, 1]\n",
    "fpr_forest, tpr_forest, thresholds = roc_curve(target_valid, probabilities_one_valid)\n",
    "auc_roc = roc_auc_score(target_valid, probabilities_one_valid)\n",
    "print('AUC-ROC модели:', auc_roc)\n",
    "\n",
    "plt.figure(figsize=(9,6))\n",
    "plt.plot(fpr_forest, tpr_forest)\n",
    "plt.plot([0, 1], [0, 1], linestyle='--')\n",
    "plt.ylim([0.0, 1.0])\n",
    "plt.xlim([0.0, 1.0])\n",
    "plt.xlabel('False Positive Rate')\n",
    "plt.ylabel('True Positive Rate')\n",
    "plt.title('ROC-кривая')\n",
    "plt.show()"
   ]
  },
  {
   "cell_type": "markdown",
   "metadata": {},
   "source": [
    "3. Логистическая регрессия"
   ]
  },
  {
   "cell_type": "code",
   "execution_count": 42,
   "metadata": {},
   "outputs": [
    {
     "name": "stdout",
     "output_type": "stream",
     "text": [
      "F1 модели логистической регрессии: 0.6121372031662269\n",
      "ROC_auc: 0.7472534239826584\n",
      "AUC-ROC модели: 0.7936927283476205\n"
     ]
    },
    {
     "data": {
      "image/png": "[encoded data removed]",
      "text/plain": [
       "<Figure size 648x432 with 1 Axes>"
      ]
     },
     "metadata": {
      "needs_background": "light"
     },
     "output_type": "display_data"
    }
   ],
   "source": [
    "model = LogisticRegression(random_state=12345, solver='liblinear')\n",
    "model.fit(features_upsampled, target_upsampled)\n",
    "predicted_valid = model.predict(features_valid)\n",
    "f1 = f1_score(target_valid, predictions_valid)\n",
    "roc_auc = roc_auc_score(target_valid, predictions_valid)\n",
    "print('F1 модели логистической регрессии:', f1)\n",
    "print('ROC_auc:', roc_auc)\n",
    "\n",
    "probabilities_valid = model.predict_proba(features_valid)\n",
    "probabilities_one_valid = probabilities_valid[:, 1]\n",
    "fpr_log, tpr_log, thresholds = roc_curve(target_valid, probabilities_one_valid)\n",
    "auc_roc = roc_auc_score(target_valid, probabilities_one_valid)\n",
    "print('AUC-ROC модели:', auc_roc)\n",
    "\n",
    "plt.figure(figsize=(9,6))\n",
    "plt.plot(fpr_log, tpr_log)\n",
    "plt.plot([0, 1], [0, 1], linestyle='--')\n",
    "plt.ylim([0.0, 1.0])\n",
    "plt.xlim([0.0, 1.0])\n",
    "plt.xlabel('False Positive Rate')\n",
    "plt.ylabel('True Positive Rate')\n",
    "plt.title('ROC-кривая')\n",
    "plt.show()"
   ]
  },
  {
   "cell_type": "code",
   "execution_count": 43,
   "metadata": {},
   "outputs": [
    {
     "data": {
      "text/plain": [
       "<Figure size 432x288 with 0 Axes>"
      ]
     },
     "metadata": {},
     "output_type": "display_data"
    },
    {
     "data": {
      "image/png": "[encoded data removed]",
      "text/plain": [
       "<Figure size 648x432 with 1 Axes>"
      ]
     },
     "metadata": {
      "needs_background": "light"
     },
     "output_type": "display_data"
    }
   ],
   "source": [
    "plt.figure()\n",
    "plt.figure(figsize=(9,6));\n",
    "plt.plot([0, 1], [0, 1], linestyle='--')\n",
    "plt.xlim([0.0, 1.0])\n",
    "plt.ylim([0.0, 1.0])\n",
    "plt.plot(fpr_log, tpr_log, label = 'Логистическая регрессия')\n",
    "plt.plot(fpr_tree, tpr_tree, label = 'Решающее дерево')\n",
    "plt.plot(fpr_forest, tpr_forest, label = 'Случайный лес')\n",
    "plt.xlabel('False Positive Rate')\n",
    "plt.ylabel('True Positive Rate')\n",
    "plt.title('ROC-кривая')\n",
    "plt.show()"
   ]
  },
  {
   "cell_type": "markdown",
   "metadata": {},
   "source": [
    "При сравнении моделей после взвешивания классов и увеличения выборки лучшим значением F1-меры (0.65) обладает случайный лес, полученный методом взвешивания классов, с количеством деревьев 20 и глубиной деревьев 11. Теперь проведем уменьшение выборки и сравним результаты."
   ]
  },
  {
   "cell_type": "markdown",
   "metadata": {},
   "source": [
    "**Уменьшение выборки**"
   ]
  },
  {
   "cell_type": "code",
   "execution_count": 44,
   "metadata": {},
   "outputs": [
    {
     "name": "stdout",
     "output_type": "stream",
     "text": [
      "1    0.50569\n",
      "0    0.49431\n",
      "Name: exited, dtype: float64\n"
     ]
    },
    {
     "data": {
      "image/png": "[encoded data removed]",
      "text/plain": [
       "<Figure size 648x360 with 1 Axes>"
      ]
     },
     "metadata": {
      "needs_background": "light"
     },
     "output_type": "display_data"
    }
   ],
   "source": [
    "def downsample(features, target, fraction):\n",
    "    features_zeros = features[target == 0]\n",
    "    features_ones = features[target == 1]\n",
    "    target_zeros = target[target == 0]\n",
    "    target_ones = target[target == 1]\n",
    "\n",
    "    features_downsampled = pd.concat(\n",
    "        [features_zeros.sample(frac=fraction, random_state=12345)] + [features_ones])\n",
    "    target_downsampled = pd.concat(\n",
    "        [target_zeros.sample(frac=fraction, random_state=12345)] + [target_ones])\n",
    "    \n",
    "    features_downsampled, target_downsampled = shuffle(\n",
    "        features_downsampled, target_downsampled, random_state=12345)\n",
    "    \n",
    "    return features_downsampled, target_downsampled\n",
    "\n",
    "features_downsampled, target_downsampled = downsample(features_train, target_train, 0.25)\n",
    "\n",
    "print(target_upsampled.value_counts(normalize = 1))\n",
    "target_upsampled.hist(figsize=(9, 5));"
   ]
  },
  {
   "cell_type": "markdown",
   "metadata": {},
   "source": [
    "1. Решающее дерево"
   ]
  },
  {
   "cell_type": "markdown",
   "metadata": {},
   "source": [
    "2. Случайный лес"
   ]
  },
  {
   "cell_type": "code",
   "execution_count": 46,
   "metadata": {},
   "outputs": [
    {
     "name": "stdout",
     "output_type": "stream",
     "text": [
      "F1-мера лучшей модели:  0.6286799620132953\n",
      "Количество деревьев лучшей модели:  110\n",
      "Глубина деревьев лучшей модели:  8\n",
      "AUC-ROC модели: 0.8608368127401714\n"
     ]
    },
    {
     "data": {
      "image/png": "[encoded data removed]",
      "text/plain": [
       "<Figure size 648x432 with 1 Axes>"
      ]
     },
     "metadata": {
      "needs_background": "light"
     },
     "output_type": "display_data"
    }
   ],
   "source": [
    "best_forest = None\n",
    "best_f1 = 0\n",
    "best_est = 0\n",
    "best_depth = 0\n",
    "for est in range(10, 250, 10):\n",
    "    for depth in range(1, 50):\n",
    "        model = RandomForestClassifier(random_state=12345, n_estimators=est, max_depth=depth)\n",
    "        model.fit(features_downsampled, target_downsampled)\n",
    "        predictions_valid = model.predict(features_valid)\n",
    "        f1 = f1_score(target_valid, predictions_valid)\n",
    "        if f1 > best_f1:\n",
    "            best_forest = model\n",
    "            best_f1 = f1\n",
    "            best_est = est\n",
    "            best_depth = depth\n",
    "print('F1-мера лучшей модели: ', best_f1)\n",
    "print('Количество деревьев лучшей модели: ', best_est)\n",
    "print('Глубина деревьев лучшей модели: ', best_depth) \n",
    "\n",
    "probabilities_valid = model.predict_proba(features_valid)\n",
    "probabilities_one_valid = probabilities_valid[:, 1]\n",
    "fpr_forest, tpr_forest, thresholds = roc_curve(target_valid, probabilities_one_valid)\n",
    "auc_roc = roc_auc_score(target_valid, probabilities_one_valid)\n",
    "print('AUC-ROC модели:', auc_roc)\n",
    "\n",
    "plt.figure(figsize=(9,6))\n",
    "plt.plot(fpr_forest, tpr_forest)\n",
    "plt.plot([0, 1], [0, 1], linestyle='--')\n",
    "plt.ylim([0.0, 1.0])\n",
    "plt.xlim([0.0, 1.0])\n",
    "plt.xlabel('False Positive Rate')\n",
    "plt.ylabel('True Positive Rate')\n",
    "plt.title('ROC-кривая')\n",
    "plt.show()"
   ]
  },
  {
   "cell_type": "markdown",
   "metadata": {},
   "source": [
    "3. Логистическая регрессия"
   ]
  },
  {
   "cell_type": "code",
   "execution_count": 47,
   "metadata": {},
   "outputs": [
    {
     "name": "stdout",
     "output_type": "stream",
     "text": [
      "F1 модели логистической регрессии: 0.6024321796071095\n",
      "ROC_auc: 0.7881379938910237\n",
      "AUC-ROC модели: 0.792608877721943\n"
     ]
    },
    {
     "data": {
      "image/png": "[encoded data removed]",
      "text/plain": [
       "<Figure size 648x432 with 1 Axes>"
      ]
     },
     "metadata": {
      "needs_background": "light"
     },
     "output_type": "display_data"
    }
   ],
   "source": [
    "model = LogisticRegression(solver='liblinear', random_state=12345)\n",
    "model.fit(features_downsampled, target_downsampled)\n",
    "predicted_valid = model.predict(features_valid)\n",
    "f1 = f1_score(target_valid, predictions_valid)\n",
    "roc_auc = roc_auc_score(target_valid, predictions_valid)\n",
    "print('F1 модели логистической регрессии:', f1)\n",
    "print('ROC_auc:', roc_auc)\n",
    "\n",
    "probabilities_valid = model.predict_proba(features_valid)\n",
    "probabilities_one_valid = probabilities_valid[:, 1]\n",
    "fpr_log, tpr_log, thresholds = roc_curve(target_valid, probabilities_one_valid)\n",
    "auc_roc = roc_auc_score(target_valid, probabilities_one_valid)\n",
    "print('AUC-ROC модели:', auc_roc)\n",
    "\n",
    "plt.figure(figsize=(9,6))\n",
    "plt.plot(fpr_log, tpr_log)\n",
    "plt.plot([0, 1], [0, 1], linestyle='--')\n",
    "plt.ylim([0.0, 1.0])\n",
    "plt.xlim([0.0, 1.0])\n",
    "plt.xlabel('False Positive Rate')\n",
    "plt.ylabel('True Positive Rate')\n",
    "plt.title('ROC-кривая')\n",
    "plt.show()"
   ]
  },
  {
   "cell_type": "code",
   "execution_count": 48,
   "metadata": {},
   "outputs": [
    {
     "data": {
      "text/plain": [
       "<Figure size 432x288 with 0 Axes>"
      ]
     },
     "metadata": {},
     "output_type": "display_data"
    },
    {
     "data": {
      "image/png": "[encoded data removed]",
      "text/plain": [
       "<Figure size 648x432 with 1 Axes>"
      ]
     },
     "metadata": {
      "needs_background": "light"
     },
     "output_type": "display_data"
    }
   ],
   "source": [
    "plt.figure()\n",
    "plt.figure(figsize=(9,6));\n",
    "plt.plot([0, 1], [0, 1], linestyle='--')\n",
    "plt.xlim([0.0, 1.0])\n",
    "plt.ylim([0.0, 1.0])\n",
    "plt.plot(fpr_log, tpr_log, label = 'Логистическая регрессия')\n",
    "plt.plot(fpr_tree, tpr_tree, label = 'Решающее дерево')\n",
    "plt.plot(fpr_forest, tpr_forest, label = 'Случайный лес')\n",
    "plt.xlabel('False Positive Rate')\n",
    "plt.ylabel('True Positive Rate')\n",
    "plt.title('ROC-кривая')\n",
    "plt.show()"
   ]
  },
  {
   "cell_type": "markdown",
   "metadata": {},
   "source": [
    "**Вывод**\\\n",
    "\\\n",
    "В данном разделе мы сбалансировали данные разными методами и после этого обучили модели. Метрика F1 моделей логистической регрессии существенно ниже, чем у моделей решающего дерева и случайного леса.\n",
    "На валидационной выборке наилучшее качество (F1=0.65) продемонстрировала модель случайного леса при применении метода взвешивание классов с гиперпараметрами: количество деревьев  20, максимальная глубина деревьев: 11. Проверим лучшую модель на тестовой выборке."
   ]
  },
  {
   "cell_type": "markdown",
   "metadata": {},
   "source": [
    "## Тестирование модели"
   ]
  },
  {
   "cell_type": "code",
   "execution_count": 49,
   "metadata": {},
   "outputs": [
    {
     "name": "stdout",
     "output_type": "stream",
     "text": [
      "F1: 0.6025917926565875\n",
      "Полнота: 0.6855036855036855\n",
      "AUC-ROC модели: 0.8551556178674823\n"
     ]
    },
    {
     "data": {
      "image/png": "[encoded data removed]",
      "text/plain": [
       "<Figure size 648x432 with 1 Axes>"
      ]
     },
     "metadata": {
      "needs_background": "light"
     },
     "output_type": "display_data"
    }
   ],
   "source": [
    "model = RandomForestClassifier(random_state=12345, n_estimators=100, max_depth=9)\n",
    "model.fit(features_upsampled, target_upsampled)\n",
    "predictions_test = model.predict(features_test)\n",
    "\n",
    "f1 = f1_score(target_test, predictions_test)\n",
    "recall = recall_score(target_test, predictions_test)\n",
    "print('F1:', f1)\n",
    "print('Полнота:', recall)\n",
    "\n",
    "probabilities_test = model.predict_proba(features_test)\n",
    "probabilities_one_test = probabilities_test[:, 1]\n",
    "fpr, tpr, thresholds = roc_curve(target_test, probabilities_one_test)\n",
    "auc_roc = roc_auc_score(target_test, probabilities_one_test)\n",
    "print('AUC-ROC модели:', auc_roc)\n",
    "\n",
    "plt.figure(figsize=(9,6))\n",
    "plt.plot(fpr, tpr)\n",
    "plt.plot([0, 1], [0, 1], linestyle='--')\n",
    "plt.ylim([0.0, 1.0])\n",
    "plt.xlim([0.0, 1.0])\n",
    "plt.xlabel('False Positive Rate')\n",
    "plt.ylabel('True Positive Rate')\n",
    "plt.title('ROC-кривая')\n",
    "plt.show()"
   ]
  },
  {
   "cell_type": "markdown",
   "metadata": {},
   "source": [
    "Выбранная модель показывает хороший результат на тестовой выборке - значение F1 меры равно 0,60, что выше заданного порогового уровня 0,59. Значение AUC-ROC равно 0,85.\n",
    "\n",
    "Так же была рассчитана метрика полнота, ее значение составило 0,67. Это говорит о том, что модель правильно определяет 67% тех клиентов, которые действительно уйдут/планируют уйти."
   ]
  },
  {
   "cell_type": "code",
   "execution_count": 50,
   "metadata": {},
   "outputs": [
    {
     "name": "stdout",
     "output_type": "stream",
     "text": [
      "F1 константной модели: 0.3381803074366431\n"
     ]
    }
   ],
   "source": [
    "dummy_model = DummyClassifier(strategy='constant', constant=1)\n",
    "dummy_model.fit(features_train, target_train)\n",
    "predictions_dummy = dummy_model.predict(features_test)\n",
    "f1 = f1_score(predictions_dummy, target_test)\n",
    "print('F1 константной модели:', f1)"
   ]
  },
  {
   "cell_type": "markdown",
   "metadata": {},
   "source": [
    "Accuracy модели DummyClassifier значительно ниже, чем у модели Случайного леса. Из чего можно сделать вывод, что выбранная модель адекватна."
   ]
  },
  {
   "cell_type": "markdown",
   "metadata": {},
   "source": [
    "**Вывод**\\\n",
    "\\\n",
    "\\\n",
    "При первоначальной обработке данных пропуски в стотлбце tenure были заполненны медианой. Изменен формат данных в стобце tenure. Были удалены столбцы row_number, customer_id, surname, так как они не несли информации для обучения моделей. Категориальные признаки были преобразованны в численные при помощи OHE. Далее данные были разбиты на три выборки в соотношении 3:1:1.(60%:20%:20%). Численные признаки были стандартизированны.\\\n",
    "Был выявлен дисбаланс классов в соотношении 1:4. Для устранения дисбаланса были применены методы взвешивание классов, увеличение выборки, уменьшение выборки. На новых данных все модели показали результат выше, чем на несбалансированной выборке.\\\n",
    "Наибольшие показатели F1(0.62988) и AUC-ROC(0.84) полученны у модели Случайного леса при применении метода взвешивание классов с параметрами (Глубина дерева: 9, Количество деревьев: 90).\\\n",
    "Лучшая модель была проверена на тестовой выборке и показала значение F1-меры в размере 0,61, AUC-ROC в размере 0,85. Была рассчитана полнота, ее значение составило 0,63.\\ \n",
    "Финальная модель прошла проверку на адекватность."
   ]
  }
 ],
 "metadata": {
  "ExecuteTimeLog": [
   {
    "duration": 47,
    "start_time": "2023-10-27T11:03:16.033Z"
   },
   {
    "duration": 75,
    "start_time": "2023-10-27T11:03:18.728Z"
   },
   {
    "duration": 374,
    "start_time": "2023-10-27T11:03:26.344Z"
   },
   {
    "duration": 28,
    "start_time": "2023-10-27T11:03:27.291Z"
   },
   {
    "duration": 83,
    "start_time": "2023-10-27T11:03:43.668Z"
   },
   {
    "duration": 27,
    "start_time": "2023-10-27T11:04:01.405Z"
   },
   {
    "duration": 45,
    "start_time": "2023-10-30T10:21:38.494Z"
   },
   {
    "duration": 388,
    "start_time": "2023-10-30T10:21:43.607Z"
   },
   {
    "duration": 85,
    "start_time": "2023-10-30T10:21:44.105Z"
   },
   {
    "duration": 21,
    "start_time": "2023-10-30T10:21:44.763Z"
   },
   {
    "duration": 12,
    "start_time": "2023-10-30T10:21:45.865Z"
   },
   {
    "duration": 11,
    "start_time": "2023-10-30T10:24:21.705Z"
   },
   {
    "duration": 11,
    "start_time": "2023-10-30T10:24:52.092Z"
   },
   {
    "duration": 62,
    "start_time": "2023-10-30T10:25:11.657Z"
   },
   {
    "duration": 464,
    "start_time": "2023-10-30T10:33:12.734Z"
   },
   {
    "duration": 18,
    "start_time": "2023-10-30T10:33:40.642Z"
   },
   {
    "duration": 4,
    "start_time": "2023-10-30T10:36:37.056Z"
   },
   {
    "duration": 12,
    "start_time": "2023-10-30T10:36:49.556Z"
   },
   {
    "duration": 5,
    "start_time": "2023-10-30T10:45:26.885Z"
   },
   {
    "duration": 1743,
    "start_time": "2023-10-30T10:52:29.425Z"
   },
   {
    "duration": 12,
    "start_time": "2023-10-30T10:52:43.628Z"
   },
   {
    "duration": 12,
    "start_time": "2023-10-30T10:53:18.272Z"
   },
   {
    "duration": 11,
    "start_time": "2023-10-30T10:53:50.805Z"
   },
   {
    "duration": 11,
    "start_time": "2023-10-30T10:54:39.193Z"
   },
   {
    "duration": 5,
    "start_time": "2023-10-30T11:04:56.813Z"
   },
   {
    "duration": 4,
    "start_time": "2023-10-30T11:04:57.919Z"
   },
   {
    "duration": 4,
    "start_time": "2023-10-30T11:05:13.925Z"
   },
   {
    "duration": 3,
    "start_time": "2023-10-30T11:05:14.298Z"
   },
   {
    "duration": 116,
    "start_time": "2023-10-30T11:06:55.016Z"
   },
   {
    "duration": 5,
    "start_time": "2023-10-30T11:07:08.043Z"
   },
   {
    "duration": 5,
    "start_time": "2023-10-30T11:07:37.552Z"
   },
   {
    "duration": 3,
    "start_time": "2023-10-30T11:08:43.880Z"
   },
   {
    "duration": 5,
    "start_time": "2023-10-30T11:08:49.466Z"
   },
   {
    "duration": 5,
    "start_time": "2023-10-30T11:09:10.087Z"
   },
   {
    "duration": 4,
    "start_time": "2023-10-30T11:14:26.698Z"
   },
   {
    "duration": 7,
    "start_time": "2023-10-30T11:21:28.984Z"
   },
   {
    "duration": 6,
    "start_time": "2023-10-30T11:21:31.825Z"
   },
   {
    "duration": 6,
    "start_time": "2023-10-30T11:21:55.650Z"
   },
   {
    "duration": 5,
    "start_time": "2023-10-30T11:27:14.437Z"
   },
   {
    "duration": 9,
    "start_time": "2023-10-30T11:27:25.743Z"
   },
   {
    "duration": 30,
    "start_time": "2023-10-30T11:28:44.975Z"
   },
   {
    "duration": 21,
    "start_time": "2023-10-30T11:33:51.243Z"
   },
   {
    "duration": 20,
    "start_time": "2023-10-30T11:34:36.791Z"
   },
   {
    "duration": 20,
    "start_time": "2023-10-30T11:34:44.126Z"
   },
   {
    "duration": 11,
    "start_time": "2023-10-30T11:46:06.262Z"
   },
   {
    "duration": 17,
    "start_time": "2023-10-30T11:46:22.058Z"
   },
   {
    "duration": 10,
    "start_time": "2023-10-30T11:46:34.720Z"
   },
   {
    "duration": 778,
    "start_time": "2023-10-30T11:50:24.941Z"
   },
   {
    "duration": 6,
    "start_time": "2023-10-30T11:51:46.600Z"
   },
   {
    "duration": 9,
    "start_time": "2023-10-30T11:56:02.595Z"
   },
   {
    "duration": 4,
    "start_time": "2023-10-30T11:56:20.872Z"
   },
   {
    "duration": 3,
    "start_time": "2023-10-30T11:56:21.509Z"
   },
   {
    "duration": 4,
    "start_time": "2023-10-30T11:56:22.104Z"
   },
   {
    "duration": 4,
    "start_time": "2023-10-30T11:58:05.181Z"
   },
   {
    "duration": 4,
    "start_time": "2023-10-30T11:58:44.181Z"
   },
   {
    "duration": 3,
    "start_time": "2023-10-30T12:04:14.696Z"
   },
   {
    "duration": 31,
    "start_time": "2023-10-30T12:15:09.534Z"
   },
   {
    "duration": 33,
    "start_time": "2023-10-30T12:16:24.697Z"
   },
   {
    "duration": 24,
    "start_time": "2023-10-30T12:17:45.082Z"
   },
   {
    "duration": 52,
    "start_time": "2023-10-30T13:02:37.001Z"
   },
   {
    "duration": 79,
    "start_time": "2023-10-30T13:10:58.522Z"
   },
   {
    "duration": 3,
    "start_time": "2023-10-30T13:13:19.885Z"
   },
   {
    "duration": 494,
    "start_time": "2023-10-30T13:13:27.040Z"
   },
   {
    "duration": 1107,
    "start_time": "2023-10-30T13:14:47.048Z"
   },
   {
    "duration": 167,
    "start_time": "2023-10-30T13:20:59.518Z"
   },
   {
    "duration": 172,
    "start_time": "2023-10-30T13:21:02.699Z"
   },
   {
    "duration": 10,
    "start_time": "2023-10-30T13:24:53.216Z"
   },
   {
    "duration": 3,
    "start_time": "2023-10-30T13:25:11.820Z"
   },
   {
    "duration": 8,
    "start_time": "2023-10-30T13:25:15.711Z"
   },
   {
    "duration": 5,
    "start_time": "2023-10-30T13:25:54.104Z"
   },
   {
    "duration": 147,
    "start_time": "2023-10-30T13:27:27.955Z"
   },
   {
    "duration": 34,
    "start_time": "2023-10-30T13:30:24.884Z"
   },
   {
    "duration": 189,
    "start_time": "2023-10-30T13:30:30.143Z"
   },
   {
    "duration": 221784,
    "start_time": "2023-10-30T13:35:50.779Z"
   },
   {
    "duration": 156862,
    "start_time": "2023-10-30T13:44:25.668Z"
   },
   {
    "duration": 11147,
    "start_time": "2023-10-30T13:48:52.734Z"
   },
   {
    "duration": 12477,
    "start_time": "2023-10-30T13:49:19.063Z"
   },
   {
    "duration": 54883,
    "start_time": "2023-10-30T13:49:54.045Z"
   },
   {
    "duration": 1102,
    "start_time": "2023-10-30T14:01:30.958Z"
   },
   {
    "duration": 42,
    "start_time": "2023-10-30T14:01:32.062Z"
   },
   {
    "duration": 67,
    "start_time": "2023-10-30T14:01:32.106Z"
   },
   {
    "duration": 32,
    "start_time": "2023-10-30T14:01:32.175Z"
   },
   {
    "duration": 58,
    "start_time": "2023-10-30T14:01:32.210Z"
   },
   {
    "duration": 77,
    "start_time": "2023-10-30T14:01:32.270Z"
   },
   {
    "duration": 21,
    "start_time": "2023-10-30T14:01:32.349Z"
   },
   {
    "duration": 28,
    "start_time": "2023-10-30T14:01:32.371Z"
   },
   {
    "duration": 36,
    "start_time": "2023-10-30T14:01:32.401Z"
   },
   {
    "duration": 19,
    "start_time": "2023-10-30T14:01:32.439Z"
   },
   {
    "duration": 52,
    "start_time": "2023-10-30T14:01:32.460Z"
   },
   {
    "duration": 41,
    "start_time": "2023-10-30T14:01:32.514Z"
   },
   {
    "duration": 94,
    "start_time": "2023-10-30T14:01:32.557Z"
   },
   {
    "duration": 22,
    "start_time": "2023-10-30T14:01:32.654Z"
   },
   {
    "duration": 15,
    "start_time": "2023-10-30T14:01:32.677Z"
   },
   {
    "duration": 21,
    "start_time": "2023-10-30T14:01:32.694Z"
   },
   {
    "duration": 24,
    "start_time": "2023-10-30T14:01:32.716Z"
   },
   {
    "duration": 18,
    "start_time": "2023-10-30T14:01:32.742Z"
   },
   {
    "duration": 26,
    "start_time": "2023-10-30T14:01:32.762Z"
   },
   {
    "duration": 57,
    "start_time": "2023-10-30T14:01:32.790Z"
   },
   {
    "duration": 68,
    "start_time": "2023-10-30T14:01:32.849Z"
   },
   {
    "duration": 178,
    "start_time": "2023-10-30T14:01:32.919Z"
   },
   {
    "duration": 17496,
    "start_time": "2023-10-30T14:01:33.099Z"
   },
   {
    "duration": 83,
    "start_time": "2023-10-30T14:01:50.597Z"
   },
   {
    "duration": 29,
    "start_time": "2023-10-30T14:02:05.603Z"
   },
   {
    "duration": 24,
    "start_time": "2023-10-30T14:02:10.101Z"
   },
   {
    "duration": 1098,
    "start_time": "2023-10-30T14:02:33.087Z"
   },
   {
    "duration": 42,
    "start_time": "2023-10-30T14:02:34.187Z"
   },
   {
    "duration": 21,
    "start_time": "2023-10-30T14:02:34.230Z"
   },
   {
    "duration": 20,
    "start_time": "2023-10-30T14:02:34.252Z"
   },
   {
    "duration": 7,
    "start_time": "2023-10-30T14:02:34.274Z"
   },
   {
    "duration": 12,
    "start_time": "2023-10-30T14:02:34.283Z"
   },
   {
    "duration": 3,
    "start_time": "2023-10-30T14:02:34.296Z"
   },
   {
    "duration": 17,
    "start_time": "2023-10-30T14:02:34.300Z"
   },
   {
    "duration": 21,
    "start_time": "2023-10-30T14:02:34.318Z"
   },
   {
    "duration": 27,
    "start_time": "2023-10-30T14:02:34.340Z"
   },
   {
    "duration": 13,
    "start_time": "2023-10-30T14:02:34.369Z"
   },
   {
    "duration": 63,
    "start_time": "2023-10-30T14:02:34.384Z"
   },
   {
    "duration": 96,
    "start_time": "2023-10-30T14:02:34.449Z"
   },
   {
    "duration": 23,
    "start_time": "2023-10-30T14:02:34.549Z"
   },
   {
    "duration": 15,
    "start_time": "2023-10-30T14:02:34.574Z"
   },
   {
    "duration": 37,
    "start_time": "2023-10-30T14:02:34.592Z"
   },
   {
    "duration": 21,
    "start_time": "2023-10-30T14:02:34.632Z"
   },
   {
    "duration": 33,
    "start_time": "2023-10-30T14:02:34.656Z"
   },
   {
    "duration": 23,
    "start_time": "2023-10-30T14:02:34.691Z"
   },
   {
    "duration": 21,
    "start_time": "2023-10-30T14:02:34.716Z"
   },
   {
    "duration": 37,
    "start_time": "2023-10-30T14:02:34.739Z"
   },
   {
    "duration": 167,
    "start_time": "2023-10-30T14:02:34.778Z"
   },
   {
    "duration": 17473,
    "start_time": "2023-10-30T14:02:34.947Z"
   },
   {
    "duration": 87,
    "start_time": "2023-10-30T14:02:52.422Z"
   },
   {
    "duration": 4,
    "start_time": "2023-10-30T14:05:11.098Z"
   },
   {
    "duration": 649,
    "start_time": "2023-10-30T14:11:40.618Z"
   },
   {
    "duration": 177,
    "start_time": "2023-10-30T14:11:55.576Z"
   },
   {
    "duration": 247,
    "start_time": "2023-10-30T14:12:04.403Z"
   },
   {
    "duration": 1232,
    "start_time": "2023-11-03T10:19:01.515Z"
   },
   {
    "duration": 82,
    "start_time": "2023-11-03T10:19:02.750Z"
   },
   {
    "duration": 21,
    "start_time": "2023-11-03T10:19:02.834Z"
   },
   {
    "duration": 26,
    "start_time": "2023-11-03T10:19:02.857Z"
   },
   {
    "duration": 8,
    "start_time": "2023-11-03T10:19:02.885Z"
   },
   {
    "duration": 29,
    "start_time": "2023-11-03T10:19:02.894Z"
   },
   {
    "duration": 7,
    "start_time": "2023-11-03T10:19:02.924Z"
   },
   {
    "duration": 12,
    "start_time": "2023-11-03T10:19:02.933Z"
   },
   {
    "duration": 10,
    "start_time": "2023-11-03T10:19:02.947Z"
   },
   {
    "duration": 17,
    "start_time": "2023-11-03T10:19:02.958Z"
   },
   {
    "duration": 12,
    "start_time": "2023-11-03T10:19:02.976Z"
   },
   {
    "duration": 23,
    "start_time": "2023-11-03T10:19:02.990Z"
   },
   {
    "duration": 29,
    "start_time": "2023-11-03T10:19:03.014Z"
   },
   {
    "duration": 20,
    "start_time": "2023-11-03T10:19:03.046Z"
   },
   {
    "duration": 32,
    "start_time": "2023-11-03T10:19:03.067Z"
   },
   {
    "duration": 17,
    "start_time": "2023-11-03T10:19:03.101Z"
   },
   {
    "duration": 35,
    "start_time": "2023-11-03T10:19:03.119Z"
   },
   {
    "duration": 12,
    "start_time": "2023-11-03T10:19:03.156Z"
   },
   {
    "duration": 20,
    "start_time": "2023-11-03T10:19:03.170Z"
   },
   {
    "duration": 10,
    "start_time": "2023-11-03T10:19:03.192Z"
   },
   {
    "duration": 42,
    "start_time": "2023-11-03T10:19:03.204Z"
   },
   {
    "duration": 183,
    "start_time": "2023-11-03T10:19:03.247Z"
   },
   {
    "duration": 18969,
    "start_time": "2023-11-03T10:19:03.432Z"
   },
   {
    "duration": 299,
    "start_time": "2023-11-03T10:19:22.403Z"
   },
   {
    "duration": 201,
    "start_time": "2023-11-03T10:39:52.460Z"
   },
   {
    "duration": 299,
    "start_time": "2023-11-03T10:40:02.903Z"
   },
   {
    "duration": 3,
    "start_time": "2023-11-03T10:40:34.171Z"
   },
   {
    "duration": 170,
    "start_time": "2023-11-03T10:40:41.971Z"
   },
   {
    "duration": 450,
    "start_time": "2023-11-03T10:41:12.823Z"
   },
   {
    "duration": 312,
    "start_time": "2023-11-03T10:41:19.285Z"
   },
   {
    "duration": 306,
    "start_time": "2023-11-03T10:45:55.543Z"
   },
   {
    "duration": 321,
    "start_time": "2023-11-03T10:46:36.284Z"
   },
   {
    "duration": 408,
    "start_time": "2023-11-03T10:46:59.468Z"
   },
   {
    "duration": 299,
    "start_time": "2023-11-03T10:50:20.421Z"
   },
   {
    "duration": 307,
    "start_time": "2023-11-03T10:51:22.102Z"
   },
   {
    "duration": 331,
    "start_time": "2023-11-03T10:54:16.482Z"
   },
   {
    "duration": 337,
    "start_time": "2023-11-03T10:54:34.999Z"
   },
   {
    "duration": 201,
    "start_time": "2023-11-03T10:57:28.571Z"
   },
   {
    "duration": 1495,
    "start_time": "2023-11-03T10:57:59.852Z"
   },
   {
    "duration": 183,
    "start_time": "2023-11-03T10:58:08.187Z"
   },
   {
    "duration": 306,
    "start_time": "2023-11-03T11:00:52.104Z"
   },
   {
    "duration": 424,
    "start_time": "2023-11-03T11:03:16.479Z"
   },
   {
    "duration": 321,
    "start_time": "2023-11-03T11:04:38.746Z"
   },
   {
    "duration": 46,
    "start_time": "2023-11-03T11:16:18.307Z"
   },
   {
    "duration": 82,
    "start_time": "2023-11-03T11:17:21.830Z"
   },
   {
    "duration": 8,
    "start_time": "2023-11-03T11:17:28.711Z"
   },
   {
    "duration": 14,
    "start_time": "2023-11-03T11:17:37.530Z"
   },
   {
    "duration": 1457,
    "start_time": "2023-11-03T11:20:36.734Z"
   },
   {
    "duration": 335,
    "start_time": "2023-11-03T11:23:30.134Z"
   },
   {
    "duration": 313,
    "start_time": "2023-11-03T11:25:50.111Z"
   },
   {
    "duration": 19352,
    "start_time": "2023-11-03T11:26:11.229Z"
   },
   {
    "duration": 299,
    "start_time": "2023-11-03T11:27:57.780Z"
   },
   {
    "duration": 178,
    "start_time": "2023-11-03T11:29:53.765Z"
   },
   {
    "duration": 19316,
    "start_time": "2023-11-03T11:30:08.627Z"
   },
   {
    "duration": 215,
    "start_time": "2023-11-03T11:34:07.325Z"
   },
   {
    "duration": 386,
    "start_time": "2023-11-03T11:34:24.170Z"
   },
   {
    "duration": 324,
    "start_time": "2023-11-03T11:34:37.416Z"
   },
   {
    "duration": 501,
    "start_time": "2023-11-03T11:36:02.432Z"
   },
   {
    "duration": 153,
    "start_time": "2023-11-03T11:38:54.885Z"
   },
   {
    "duration": 158,
    "start_time": "2023-11-03T11:39:04.743Z"
   },
   {
    "duration": 18150,
    "start_time": "2023-11-03T11:39:49.552Z"
   },
   {
    "duration": 53047,
    "start_time": "2023-11-03T11:40:27.255Z"
   },
   {
    "duration": 51568,
    "start_time": "2023-11-03T11:41:59.948Z"
   },
   {
    "duration": 283,
    "start_time": "2023-11-03T11:42:51.518Z"
   },
   {
    "duration": 293,
    "start_time": "2023-11-03T11:46:46.518Z"
   },
   {
    "duration": 303,
    "start_time": "2023-11-03T11:47:09.732Z"
   },
   {
    "duration": 5,
    "start_time": "2023-11-03T11:47:22.998Z"
   },
   {
    "duration": 343,
    "start_time": "2023-11-03T11:48:27.517Z"
   },
   {
    "duration": 75,
    "start_time": "2023-11-03T12:07:08.118Z"
   },
   {
    "duration": 52624,
    "start_time": "2023-11-03T12:07:25.333Z"
   },
   {
    "duration": 415,
    "start_time": "2023-11-03T12:12:06.727Z"
   },
   {
    "duration": 11,
    "start_time": "2023-11-03T12:19:28.730Z"
   },
   {
    "duration": 326,
    "start_time": "2023-11-03T12:19:34.780Z"
   },
   {
    "duration": 80012,
    "start_time": "2023-11-03T12:22:18.971Z"
   },
   {
    "duration": 67119,
    "start_time": "2023-11-03T12:26:40.726Z"
   },
   {
    "duration": 87,
    "start_time": "2023-11-03T12:31:39.850Z"
   },
   {
    "duration": 349,
    "start_time": "2023-11-03T12:32:05.655Z"
   },
   {
    "duration": 345,
    "start_time": "2023-11-03T12:32:21.858Z"
   },
   {
    "duration": 356,
    "start_time": "2023-11-03T12:32:33.866Z"
   },
   {
    "duration": 12,
    "start_time": "2023-11-03T12:55:09.859Z"
   },
   {
    "duration": 8,
    "start_time": "2023-11-03T13:00:48.110Z"
   },
   {
    "duration": 549,
    "start_time": "2023-11-03T13:02:21.278Z"
   },
   {
    "duration": 67938,
    "start_time": "2023-11-03T13:02:55.855Z"
   },
   {
    "duration": 5,
    "start_time": "2023-11-03T13:07:29.556Z"
   },
   {
    "duration": 311,
    "start_time": "2023-11-03T13:08:22.905Z"
   },
   {
    "duration": 50339,
    "start_time": "2023-11-03T13:08:51.879Z"
   },
   {
    "duration": 408,
    "start_time": "2023-11-03T13:10:24.476Z"
   },
   {
    "duration": 339,
    "start_time": "2023-11-03T13:10:48.648Z"
   },
   {
    "duration": 68831,
    "start_time": "2023-11-03T13:10:59.714Z"
   },
   {
    "duration": 383,
    "start_time": "2023-11-03T13:12:35.573Z"
   },
   {
    "duration": 218,
    "start_time": "2023-11-03T13:15:23.201Z"
   },
   {
    "duration": 29743,
    "start_time": "2023-11-03T13:18:16.770Z"
   },
   {
    "duration": 28561,
    "start_time": "2023-11-03T13:19:32.293Z"
   },
   {
    "duration": 320,
    "start_time": "2023-11-03T13:24:20.972Z"
   },
   {
    "duration": 212164,
    "start_time": "2023-11-03T13:26:26.221Z"
   },
   {
    "duration": 287977,
    "start_time": "2023-11-03T13:30:27.784Z"
   },
   {
    "duration": 55658,
    "start_time": "2023-11-03T13:43:33.849Z"
   },
   {
    "duration": 585,
    "start_time": "2023-11-03T13:55:23.502Z"
   },
   {
    "duration": 763,
    "start_time": "2023-11-03T13:55:36.115Z"
   },
   {
    "duration": 746,
    "start_time": "2023-11-03T13:55:46.586Z"
   },
   {
    "duration": 600,
    "start_time": "2023-11-03T13:57:04.961Z"
   },
   {
    "duration": 756,
    "start_time": "2023-11-03T13:59:02.891Z"
   },
   {
    "duration": 763,
    "start_time": "2023-11-03T14:03:09.621Z"
   },
   {
    "duration": 746,
    "start_time": "2023-11-03T14:04:58.037Z"
   },
   {
    "duration": 278,
    "start_time": "2023-11-03T14:05:39.896Z"
   },
   {
    "duration": 365,
    "start_time": "2023-11-03T14:06:04.301Z"
   },
   {
    "duration": 53675,
    "start_time": "2023-11-03T14:06:28.238Z"
   },
   {
    "duration": 298,
    "start_time": "2023-11-03T14:08:07.550Z"
   },
   {
    "duration": 341,
    "start_time": "2023-11-03T14:08:20.211Z"
   },
   {
    "duration": 72596,
    "start_time": "2023-11-03T14:08:30.415Z"
   },
   {
    "duration": 409,
    "start_time": "2023-11-03T14:10:06.306Z"
   },
   {
    "duration": 30072,
    "start_time": "2023-11-03T14:10:19.658Z"
   },
   {
    "duration": 331,
    "start_time": "2023-11-03T14:11:27.215Z"
   },
   {
    "duration": 744,
    "start_time": "2023-11-03T14:13:18.186Z"
   },
   {
    "duration": 541,
    "start_time": "2023-11-03T14:13:52.373Z"
   },
   {
    "duration": 35074,
    "start_time": "2023-11-03T14:21:59.663Z"
   },
   {
    "duration": 572,
    "start_time": "2023-11-03T14:24:44.097Z"
   },
   {
    "duration": 4,
    "start_time": "2023-11-03T14:25:17.070Z"
   },
   {
    "duration": 773,
    "start_time": "2023-11-03T14:25:24.569Z"
   },
   {
    "duration": 11,
    "start_time": "2023-11-03T14:28:13.641Z"
   },
   {
    "duration": 3,
    "start_time": "2023-11-03T14:28:37.431Z"
   },
   {
    "duration": 7,
    "start_time": "2023-11-03T14:28:41.813Z"
   },
   {
    "duration": 204699,
    "start_time": "2023-11-03T14:43:43.304Z"
   },
   {
    "duration": 47057,
    "start_time": "2023-11-03T14:53:12.189Z"
   },
   {
    "duration": 12198,
    "start_time": "2023-11-03T14:53:59.248Z"
   },
   {
    "duration": 298,
    "start_time": "2023-11-03T17:42:56.444Z"
   },
   {
    "duration": 15628,
    "start_time": "2023-11-03T17:43:24.480Z"
   },
   {
    "duration": 6789,
    "start_time": "2023-11-03T17:44:58.144Z"
   },
   {
    "duration": 334,
    "start_time": "2023-11-03T17:50:11.045Z"
   },
   {
    "duration": 13,
    "start_time": "2023-11-03T17:54:04.887Z"
   },
   {
    "duration": 47,
    "start_time": "2023-11-03T17:57:13.346Z"
   },
   {
    "duration": 45,
    "start_time": "2023-11-03T17:58:40.682Z"
   },
   {
    "duration": 5,
    "start_time": "2023-11-03T18:00:12.537Z"
   },
   {
    "duration": 22225,
    "start_time": "2023-11-03T18:00:22.730Z"
   },
   {
    "duration": 50527,
    "start_time": "2023-11-03T18:05:55.651Z"
   },
   {
    "duration": 1500,
    "start_time": "2023-11-03T18:07:13.214Z"
   },
   {
    "duration": 50,
    "start_time": "2023-11-03T18:07:14.716Z"
   },
   {
    "duration": 25,
    "start_time": "2023-11-03T18:07:14.768Z"
   },
   {
    "duration": 33,
    "start_time": "2023-11-03T18:07:14.795Z"
   },
   {
    "duration": 33,
    "start_time": "2023-11-03T18:07:14.831Z"
   },
   {
    "duration": 29,
    "start_time": "2023-11-03T18:07:14.866Z"
   },
   {
    "duration": 23,
    "start_time": "2023-11-03T18:07:14.897Z"
   },
   {
    "duration": 24,
    "start_time": "2023-11-03T18:07:14.922Z"
   },
   {
    "duration": 44,
    "start_time": "2023-11-03T18:07:14.948Z"
   },
   {
    "duration": 118,
    "start_time": "2023-11-03T18:07:14.994Z"
   },
   {
    "duration": 45,
    "start_time": "2023-11-03T18:07:15.113Z"
   },
   {
    "duration": 53,
    "start_time": "2023-11-03T18:07:15.160Z"
   },
   {
    "duration": 78,
    "start_time": "2023-11-03T18:07:15.214Z"
   },
   {
    "duration": 21,
    "start_time": "2023-11-03T18:07:15.295Z"
   },
   {
    "duration": 12,
    "start_time": "2023-11-03T18:07:15.317Z"
   },
   {
    "duration": 5,
    "start_time": "2023-11-03T18:07:15.330Z"
   },
   {
    "duration": 66,
    "start_time": "2023-11-03T18:07:15.337Z"
   },
   {
    "duration": 4,
    "start_time": "2023-11-03T18:07:15.405Z"
   },
   {
    "duration": 16,
    "start_time": "2023-11-03T18:07:15.410Z"
   },
   {
    "duration": 21,
    "start_time": "2023-11-03T18:07:15.427Z"
   },
   {
    "duration": 39,
    "start_time": "2023-11-03T18:07:15.450Z"
   },
   {
    "duration": 187,
    "start_time": "2023-11-03T18:07:15.490Z"
   },
   {
    "duration": 51187,
    "start_time": "2023-11-03T18:07:15.678Z"
   },
   {
    "duration": 446,
    "start_time": "2023-11-03T18:08:06.866Z"
   },
   {
    "duration": 490,
    "start_time": "2023-11-03T18:08:07.316Z"
   },
   {
    "duration": 50936,
    "start_time": "2023-11-03T18:08:07.807Z"
   },
   {
    "duration": 343,
    "start_time": "2023-11-03T18:08:58.745Z"
   },
   {
    "duration": 19,
    "start_time": "2023-11-03T18:08:59.090Z"
   },
   {
    "duration": 330,
    "start_time": "2023-11-03T18:08:59.112Z"
   },
   {
    "duration": 69105,
    "start_time": "2023-11-03T18:08:59.444Z"
   },
   {
    "duration": 369,
    "start_time": "2023-11-03T18:10:08.552Z"
   },
   {
    "duration": 12,
    "start_time": "2023-11-03T18:10:08.923Z"
   },
   {
    "duration": 610,
    "start_time": "2023-11-03T18:10:08.937Z"
   },
   {
    "duration": 29029,
    "start_time": "2023-11-03T18:10:09.550Z"
   },
   {
    "duration": 334,
    "start_time": "2023-11-03T18:10:38.581Z"
   },
   {
    "duration": 366,
    "start_time": "2023-11-03T18:10:38.916Z"
   },
   {
    "duration": 18,
    "start_time": "2023-11-03T18:10:39.284Z"
   },
   {
    "duration": 1657,
    "start_time": "2023-11-06T10:05:44.387Z"
   },
   {
    "duration": 99,
    "start_time": "2023-11-06T10:05:46.046Z"
   },
   {
    "duration": 22,
    "start_time": "2023-11-06T10:05:46.147Z"
   },
   {
    "duration": 15,
    "start_time": "2023-11-06T10:05:46.172Z"
   },
   {
    "duration": 8,
    "start_time": "2023-11-06T10:05:46.190Z"
   },
   {
    "duration": 13,
    "start_time": "2023-11-06T10:05:46.200Z"
   },
   {
    "duration": 5,
    "start_time": "2023-11-06T10:05:46.247Z"
   },
   {
    "duration": 17,
    "start_time": "2023-11-06T10:05:46.254Z"
   },
   {
    "duration": 11,
    "start_time": "2023-11-06T10:05:46.273Z"
   },
   {
    "duration": 8,
    "start_time": "2023-11-06T10:05:46.286Z"
   },
   {
    "duration": 10,
    "start_time": "2023-11-06T10:05:46.296Z"
   },
   {
    "duration": 26,
    "start_time": "2023-11-06T10:05:46.308Z"
   },
   {
    "duration": 25,
    "start_time": "2023-11-06T10:05:46.336Z"
   },
   {
    "duration": 22,
    "start_time": "2023-11-06T10:05:46.362Z"
   },
   {
    "duration": 19,
    "start_time": "2023-11-06T10:05:46.386Z"
   },
   {
    "duration": 6,
    "start_time": "2023-11-06T10:05:46.407Z"
   },
   {
    "duration": 39,
    "start_time": "2023-11-06T10:05:46.416Z"
   },
   {
    "duration": 5,
    "start_time": "2023-11-06T10:05:46.457Z"
   },
   {
    "duration": 20,
    "start_time": "2023-11-06T10:05:46.464Z"
   },
   {
    "duration": 14,
    "start_time": "2023-11-06T10:05:46.486Z"
   },
   {
    "duration": 55,
    "start_time": "2023-11-06T10:05:46.502Z"
   },
   {
    "duration": 179,
    "start_time": "2023-11-06T10:05:46.559Z"
   },
   {
    "duration": 53139,
    "start_time": "2023-11-06T10:05:46.740Z"
   },
   {
    "duration": 267,
    "start_time": "2023-11-06T10:06:39.881Z"
   },
   {
    "duration": 423,
    "start_time": "2023-11-06T10:06:40.151Z"
   },
   {
    "duration": 53081,
    "start_time": "2023-11-06T10:06:40.575Z"
   },
   {
    "duration": 328,
    "start_time": "2023-11-06T10:07:33.658Z"
   },
   {
    "duration": 12,
    "start_time": "2023-11-06T10:07:33.989Z"
   },
   {
    "duration": 361,
    "start_time": "2023-11-06T10:07:34.003Z"
   },
   {
    "duration": 72397,
    "start_time": "2023-11-06T10:07:34.366Z"
   },
   {
    "duration": 409,
    "start_time": "2023-11-06T10:08:46.765Z"
   },
   {
    "duration": 12,
    "start_time": "2023-11-06T10:08:47.176Z"
   },
   {
    "duration": 251,
    "start_time": "2023-11-06T10:08:47.190Z"
   },
   {
    "duration": 30526,
    "start_time": "2023-11-06T10:08:47.443Z"
   },
   {
    "duration": 404,
    "start_time": "2023-11-06T10:09:17.970Z"
   },
   {
    "duration": 370,
    "start_time": "2023-11-06T10:09:18.376Z"
   },
   {
    "duration": 6,
    "start_time": "2023-11-06T10:09:18.748Z"
   },
   {
    "duration": 730,
    "start_time": "2023-11-06T10:17:55.858Z"
   },
   {
    "duration": 10,
    "start_time": "2023-11-06T10:25:45.535Z"
   },
   {
    "duration": 9,
    "start_time": "2023-11-06T10:26:49.071Z"
   },
   {
    "duration": 1236,
    "start_time": "2023-11-06T12:35:18.893Z"
   },
   {
    "duration": 85,
    "start_time": "2023-11-06T12:35:20.131Z"
   },
   {
    "duration": 19,
    "start_time": "2023-11-06T12:35:20.218Z"
   },
   {
    "duration": 19,
    "start_time": "2023-11-06T12:35:20.240Z"
   },
   {
    "duration": 29,
    "start_time": "2023-11-06T12:35:20.260Z"
   },
   {
    "duration": 39,
    "start_time": "2023-11-06T12:35:20.290Z"
   },
   {
    "duration": 30,
    "start_time": "2023-11-06T12:35:20.331Z"
   },
   {
    "duration": 22,
    "start_time": "2023-11-06T12:35:20.362Z"
   },
   {
    "duration": 27,
    "start_time": "2023-11-06T12:35:20.386Z"
   },
   {
    "duration": 13,
    "start_time": "2023-11-06T12:35:20.415Z"
   },
   {
    "duration": 37,
    "start_time": "2023-11-06T12:35:20.429Z"
   },
   {
    "duration": 39,
    "start_time": "2023-11-06T12:35:20.467Z"
   },
   {
    "duration": 37,
    "start_time": "2023-11-06T12:35:20.507Z"
   },
   {
    "duration": 25,
    "start_time": "2023-11-06T12:35:20.545Z"
   },
   {
    "duration": 12,
    "start_time": "2023-11-06T12:35:20.572Z"
   },
   {
    "duration": 23,
    "start_time": "2023-11-06T12:35:20.586Z"
   },
   {
    "duration": 39,
    "start_time": "2023-11-06T12:35:20.610Z"
   },
   {
    "duration": 22,
    "start_time": "2023-11-06T12:35:20.650Z"
   },
   {
    "duration": 13,
    "start_time": "2023-11-06T12:35:20.674Z"
   },
   {
    "duration": 22,
    "start_time": "2023-11-06T12:35:20.690Z"
   },
   {
    "duration": 64,
    "start_time": "2023-11-06T12:35:20.714Z"
   },
   {
    "duration": 177,
    "start_time": "2023-11-06T12:35:20.780Z"
   },
   {
    "duration": 57747,
    "start_time": "2023-11-06T12:35:20.958Z"
   },
   {
    "duration": 306,
    "start_time": "2023-11-06T12:36:18.707Z"
   },
   {
    "duration": 444,
    "start_time": "2023-11-06T12:36:19.015Z"
   },
   {
    "duration": 60286,
    "start_time": "2023-11-06T12:36:19.461Z"
   },
   {
    "duration": 397,
    "start_time": "2023-11-06T12:37:19.749Z"
   },
   {
    "duration": 11,
    "start_time": "2023-11-06T12:37:20.150Z"
   },
   {
    "duration": 464,
    "start_time": "2023-11-06T12:37:20.163Z"
   },
   {
    "duration": 77709,
    "start_time": "2023-11-06T12:37:20.629Z"
   },
   {
    "duration": 385,
    "start_time": "2023-11-06T12:38:38.340Z"
   },
   {
    "duration": 11,
    "start_time": "2023-11-06T12:38:38.726Z"
   },
   {
    "duration": 248,
    "start_time": "2023-11-06T12:38:38.739Z"
   },
   {
    "duration": 31594,
    "start_time": "2023-11-06T12:38:38.988Z"
   },
   {
    "duration": 343,
    "start_time": "2023-11-06T12:39:10.583Z"
   },
   {
    "duration": 751,
    "start_time": "2023-11-06T12:39:10.927Z"
   },
   {
    "duration": 8,
    "start_time": "2023-11-06T12:39:11.679Z"
   },
   {
    "duration": 1545,
    "start_time": "2023-11-07T13:54:34.013Z"
   },
   {
    "duration": 86,
    "start_time": "2023-11-07T13:54:35.561Z"
   },
   {
    "duration": 21,
    "start_time": "2023-11-07T13:54:35.649Z"
   },
   {
    "duration": 119,
    "start_time": "2023-11-07T13:55:03.141Z"
   },
   {
    "duration": 3,
    "start_time": "2023-11-07T13:57:01.632Z"
   },
   {
    "duration": 21,
    "start_time": "2023-11-07T13:57:06.350Z"
   },
   {
    "duration": 15,
    "start_time": "2023-11-07T13:57:11.487Z"
   },
   {
    "duration": 15,
    "start_time": "2023-11-07T13:57:35.805Z"
   },
   {
    "duration": 4,
    "start_time": "2023-11-07T13:58:16.385Z"
   },
   {
    "duration": 15,
    "start_time": "2023-11-07T13:58:24.719Z"
   },
   {
    "duration": 40,
    "start_time": "2023-11-07T14:01:08.262Z"
   },
   {
    "duration": 5,
    "start_time": "2023-11-07T14:07:11.061Z"
   },
   {
    "duration": 13,
    "start_time": "2023-11-07T14:48:42.900Z"
   },
   {
    "duration": 4,
    "start_time": "2023-11-07T14:49:02.010Z"
   },
   {
    "duration": 9,
    "start_time": "2023-11-07T14:49:06.441Z"
   },
   {
    "duration": 13,
    "start_time": "2023-11-07T14:50:41.863Z"
   },
   {
    "duration": 17,
    "start_time": "2023-11-07T14:51:06.454Z"
   },
   {
    "duration": 10,
    "start_time": "2023-11-07T14:54:06.819Z"
   },
   {
    "duration": 30,
    "start_time": "2023-11-07T14:54:12.031Z"
   },
   {
    "duration": 51,
    "start_time": "2023-11-07T14:54:23.300Z"
   },
   {
    "duration": 42,
    "start_time": "2023-11-07T14:55:16.407Z"
   },
   {
    "duration": 2,
    "start_time": "2023-11-07T14:57:15.766Z"
   },
   {
    "duration": 35,
    "start_time": "2023-11-07T14:57:16.991Z"
   },
   {
    "duration": 1486,
    "start_time": "2023-11-07T14:58:40.584Z"
   },
   {
    "duration": 12,
    "start_time": "2023-11-07T15:24:58.973Z"
   },
   {
    "duration": 0,
    "start_time": "2023-11-07T15:24:58.986Z"
   },
   {
    "duration": 0,
    "start_time": "2023-11-07T15:24:58.988Z"
   },
   {
    "duration": 0,
    "start_time": "2023-11-07T15:24:58.989Z"
   },
   {
    "duration": 0,
    "start_time": "2023-11-07T15:24:58.990Z"
   },
   {
    "duration": 0,
    "start_time": "2023-11-07T15:24:58.992Z"
   },
   {
    "duration": 0,
    "start_time": "2023-11-07T15:24:58.993Z"
   },
   {
    "duration": 0,
    "start_time": "2023-11-07T15:24:58.994Z"
   },
   {
    "duration": 0,
    "start_time": "2023-11-07T15:24:58.995Z"
   },
   {
    "duration": 0,
    "start_time": "2023-11-07T15:24:58.996Z"
   },
   {
    "duration": 13,
    "start_time": "2023-11-07T15:24:58.998Z"
   },
   {
    "duration": 0,
    "start_time": "2023-11-07T15:24:59.012Z"
   },
   {
    "duration": 0,
    "start_time": "2023-11-07T15:24:59.014Z"
   },
   {
    "duration": 0,
    "start_time": "2023-11-07T15:24:59.015Z"
   },
   {
    "duration": 0,
    "start_time": "2023-11-07T15:24:59.016Z"
   },
   {
    "duration": 0,
    "start_time": "2023-11-07T15:24:59.017Z"
   },
   {
    "duration": 0,
    "start_time": "2023-11-07T15:24:59.018Z"
   },
   {
    "duration": 0,
    "start_time": "2023-11-07T15:24:59.018Z"
   },
   {
    "duration": 0,
    "start_time": "2023-11-07T15:24:59.023Z"
   },
   {
    "duration": 0,
    "start_time": "2023-11-07T15:24:59.024Z"
   },
   {
    "duration": 0,
    "start_time": "2023-11-07T15:24:59.025Z"
   },
   {
    "duration": 5,
    "start_time": "2023-11-07T15:25:28.528Z"
   },
   {
    "duration": 55,
    "start_time": "2023-11-07T15:25:28.536Z"
   },
   {
    "duration": 3,
    "start_time": "2023-11-07T15:25:28.593Z"
   },
   {
    "duration": 27,
    "start_time": "2023-11-07T15:25:28.598Z"
   },
   {
    "duration": 29,
    "start_time": "2023-11-07T15:25:28.627Z"
   },
   {
    "duration": 42,
    "start_time": "2023-11-07T15:25:28.659Z"
   },
   {
    "duration": 22,
    "start_time": "2023-11-07T15:25:28.703Z"
   },
   {
    "duration": 10,
    "start_time": "2023-11-07T15:25:28.727Z"
   },
   {
    "duration": 2200,
    "start_time": "2023-11-07T15:25:28.738Z"
   },
   {
    "duration": 0,
    "start_time": "2023-11-07T15:25:30.941Z"
   },
   {
    "duration": 0,
    "start_time": "2023-11-07T15:25:30.943Z"
   },
   {
    "duration": 0,
    "start_time": "2023-11-07T15:25:30.944Z"
   },
   {
    "duration": 0,
    "start_time": "2023-11-07T15:25:30.946Z"
   },
   {
    "duration": 0,
    "start_time": "2023-11-07T15:25:30.947Z"
   },
   {
    "duration": 0,
    "start_time": "2023-11-07T15:25:30.949Z"
   },
   {
    "duration": 0,
    "start_time": "2023-11-07T15:25:30.950Z"
   },
   {
    "duration": 0,
    "start_time": "2023-11-07T15:25:30.952Z"
   },
   {
    "duration": 0,
    "start_time": "2023-11-07T15:25:30.954Z"
   },
   {
    "duration": 0,
    "start_time": "2023-11-07T15:25:30.955Z"
   },
   {
    "duration": 0,
    "start_time": "2023-11-07T15:25:30.957Z"
   },
   {
    "duration": 0,
    "start_time": "2023-11-07T15:25:30.959Z"
   },
   {
    "duration": 0,
    "start_time": "2023-11-07T15:25:30.960Z"
   },
   {
    "duration": 0,
    "start_time": "2023-11-07T15:25:30.962Z"
   },
   {
    "duration": 0,
    "start_time": "2023-11-07T15:25:30.964Z"
   },
   {
    "duration": 0,
    "start_time": "2023-11-07T15:25:30.965Z"
   },
   {
    "duration": 0,
    "start_time": "2023-11-07T15:25:30.967Z"
   },
   {
    "duration": 0,
    "start_time": "2023-11-07T15:25:30.969Z"
   },
   {
    "duration": 0,
    "start_time": "2023-11-07T15:25:30.971Z"
   },
   {
    "duration": 0,
    "start_time": "2023-11-07T15:25:30.972Z"
   },
   {
    "duration": 0,
    "start_time": "2023-11-07T15:25:30.974Z"
   },
   {
    "duration": 0,
    "start_time": "2023-11-07T15:25:30.975Z"
   },
   {
    "duration": 0,
    "start_time": "2023-11-07T15:25:31.023Z"
   },
   {
    "duration": 0,
    "start_time": "2023-11-07T15:25:31.025Z"
   },
   {
    "duration": 0,
    "start_time": "2023-11-07T15:25:31.027Z"
   },
   {
    "duration": 0,
    "start_time": "2023-11-07T15:25:31.028Z"
   },
   {
    "duration": 0,
    "start_time": "2023-11-07T15:25:31.029Z"
   },
   {
    "duration": 0,
    "start_time": "2023-11-07T15:25:31.031Z"
   },
   {
    "duration": 0,
    "start_time": "2023-11-07T15:25:31.032Z"
   },
   {
    "duration": 0,
    "start_time": "2023-11-07T15:25:31.033Z"
   },
   {
    "duration": 0,
    "start_time": "2023-11-07T15:25:31.034Z"
   },
   {
    "duration": 0,
    "start_time": "2023-11-07T15:25:31.035Z"
   },
   {
    "duration": 0,
    "start_time": "2023-11-07T15:25:31.036Z"
   },
   {
    "duration": 0,
    "start_time": "2023-11-07T15:25:31.038Z"
   },
   {
    "duration": 4,
    "start_time": "2023-11-07T15:26:56.250Z"
   },
   {
    "duration": 71,
    "start_time": "2023-11-07T15:26:56.256Z"
   },
   {
    "duration": 2,
    "start_time": "2023-11-07T15:26:56.329Z"
   },
   {
    "duration": 49,
    "start_time": "2023-11-07T15:26:56.333Z"
   },
   {
    "duration": 51,
    "start_time": "2023-11-07T15:26:56.384Z"
   },
   {
    "duration": 121,
    "start_time": "2023-11-07T15:26:56.436Z"
   },
   {
    "duration": 8,
    "start_time": "2023-11-07T15:26:56.558Z"
   },
   {
    "duration": 17,
    "start_time": "2023-11-07T15:26:56.568Z"
   },
   {
    "duration": 7,
    "start_time": "2023-11-07T15:26:56.587Z"
   },
   {
    "duration": 56,
    "start_time": "2023-11-07T15:26:56.596Z"
   },
   {
    "duration": 13,
    "start_time": "2023-11-07T15:26:56.654Z"
   },
   {
    "duration": 28,
    "start_time": "2023-11-07T15:26:56.669Z"
   },
   {
    "duration": 24,
    "start_time": "2023-11-07T15:26:56.698Z"
   },
   {
    "duration": 24,
    "start_time": "2023-11-07T15:26:56.725Z"
   },
   {
    "duration": 55,
    "start_time": "2023-11-07T15:26:56.751Z"
   },
   {
    "duration": 26,
    "start_time": "2023-11-07T15:26:56.808Z"
   },
   {
    "duration": 60,
    "start_time": "2023-11-07T15:26:56.836Z"
   },
   {
    "duration": 27,
    "start_time": "2023-11-07T15:26:56.898Z"
   },
   {
    "duration": 1105,
    "start_time": "2023-11-07T15:26:56.926Z"
   },
   {
    "duration": 18,
    "start_time": "2023-11-07T15:26:58.033Z"
   },
   {
    "duration": 79,
    "start_time": "2023-11-07T15:26:58.053Z"
   },
   {
    "duration": 18,
    "start_time": "2023-11-07T15:26:58.134Z"
   },
   {
    "duration": 20,
    "start_time": "2023-11-07T15:27:06.774Z"
   },
   {
    "duration": 8,
    "start_time": "2023-11-07T15:27:49.910Z"
   },
   {
    "duration": 10,
    "start_time": "2023-11-07T15:31:17.195Z"
   },
   {
    "duration": 12,
    "start_time": "2023-11-07T15:31:51.282Z"
   },
   {
    "duration": 4,
    "start_time": "2023-11-07T15:31:55.389Z"
   },
   {
    "duration": 5,
    "start_time": "2023-11-07T15:31:55.967Z"
   },
   {
    "duration": 5,
    "start_time": "2023-11-07T15:31:56.487Z"
   },
   {
    "duration": 20,
    "start_time": "2023-11-07T15:32:09.047Z"
   },
   {
    "duration": 13,
    "start_time": "2023-11-07T15:33:19.385Z"
   },
   {
    "duration": 12,
    "start_time": "2023-11-07T15:34:02.768Z"
   },
   {
    "duration": 9,
    "start_time": "2023-11-07T15:34:26.070Z"
   },
   {
    "duration": 4,
    "start_time": "2023-11-07T15:34:28.353Z"
   },
   {
    "duration": 4,
    "start_time": "2023-11-07T15:34:29.403Z"
   },
   {
    "duration": 10,
    "start_time": "2023-11-07T15:34:31.004Z"
   },
   {
    "duration": 19,
    "start_time": "2023-11-07T15:34:40.932Z"
   },
   {
    "duration": 13,
    "start_time": "2023-11-07T15:35:07.912Z"
   },
   {
    "duration": 13,
    "start_time": "2023-11-07T15:36:17.153Z"
   },
   {
    "duration": 21,
    "start_time": "2023-11-07T15:49:27.510Z"
   },
   {
    "duration": 16,
    "start_time": "2023-11-07T15:49:50.752Z"
   },
   {
    "duration": 7,
    "start_time": "2023-11-07T16:29:33.025Z"
   },
   {
    "duration": 5,
    "start_time": "2023-11-07T16:29:50.896Z"
   },
   {
    "duration": 15,
    "start_time": "2023-11-07T16:29:53.981Z"
   },
   {
    "duration": 8,
    "start_time": "2023-11-07T16:29:59.431Z"
   },
   {
    "duration": 4,
    "start_time": "2023-11-07T16:31:14.482Z"
   },
   {
    "duration": 39,
    "start_time": "2023-11-07T16:31:14.969Z"
   },
   {
    "duration": 2,
    "start_time": "2023-11-07T16:31:16.199Z"
   },
   {
    "duration": 21,
    "start_time": "2023-11-07T16:31:17.053Z"
   },
   {
    "duration": 14,
    "start_time": "2023-11-07T16:31:19.682Z"
   },
   {
    "duration": 43,
    "start_time": "2023-11-07T16:31:20.248Z"
   },
   {
    "duration": 7,
    "start_time": "2023-11-07T16:31:22.298Z"
   },
   {
    "duration": 11,
    "start_time": "2023-11-07T16:31:23.051Z"
   },
   {
    "duration": 2,
    "start_time": "2023-11-07T16:31:31.417Z"
   },
   {
    "duration": 4,
    "start_time": "2023-11-07T16:31:32.577Z"
   },
   {
    "duration": 42,
    "start_time": "2023-11-07T16:31:35.065Z"
   },
   {
    "duration": 6,
    "start_time": "2023-11-07T16:31:39.512Z"
   },
   {
    "duration": 4,
    "start_time": "2023-11-07T16:31:40.177Z"
   },
   {
    "duration": 3,
    "start_time": "2023-11-07T16:31:41.309Z"
   },
   {
    "duration": 9,
    "start_time": "2023-11-07T16:31:41.876Z"
   },
   {
    "duration": 4,
    "start_time": "2023-11-07T16:31:43.741Z"
   },
   {
    "duration": 5,
    "start_time": "2023-11-07T16:31:47.075Z"
   },
   {
    "duration": 11,
    "start_time": "2023-11-07T16:31:48.699Z"
   },
   {
    "duration": 23,
    "start_time": "2023-11-07T16:31:54.307Z"
   },
   {
    "duration": 1508,
    "start_time": "2023-11-07T16:31:55.983Z"
   },
   {
    "duration": 2,
    "start_time": "2023-11-07T16:32:02.296Z"
   },
   {
    "duration": 4,
    "start_time": "2023-11-07T16:32:10.545Z"
   },
   {
    "duration": 14,
    "start_time": "2023-11-07T16:32:12.187Z"
   },
   {
    "duration": 5,
    "start_time": "2023-11-07T16:32:15.118Z"
   },
   {
    "duration": 6,
    "start_time": "2023-11-07T16:34:15.360Z"
   },
   {
    "duration": 18,
    "start_time": "2023-11-07T16:35:56.745Z"
   },
   {
    "duration": 1466,
    "start_time": "2023-11-07T16:36:36.238Z"
   },
   {
    "duration": 46,
    "start_time": "2023-11-07T16:36:37.706Z"
   },
   {
    "duration": 2,
    "start_time": "2023-11-07T16:36:37.754Z"
   },
   {
    "duration": 20,
    "start_time": "2023-11-07T16:36:37.758Z"
   },
   {
    "duration": 12,
    "start_time": "2023-11-07T16:36:37.780Z"
   },
   {
    "duration": 48,
    "start_time": "2023-11-07T16:36:37.794Z"
   },
   {
    "duration": 11,
    "start_time": "2023-11-07T16:36:37.844Z"
   },
   {
    "duration": 11,
    "start_time": "2023-11-07T16:36:37.856Z"
   },
   {
    "duration": 2,
    "start_time": "2023-11-07T16:36:37.869Z"
   },
   {
    "duration": 8,
    "start_time": "2023-11-07T16:36:37.872Z"
   },
   {
    "duration": 12,
    "start_time": "2023-11-07T16:36:37.882Z"
   },
   {
    "duration": 29,
    "start_time": "2023-11-07T16:36:37.896Z"
   },
   {
    "duration": 3,
    "start_time": "2023-11-07T16:36:37.928Z"
   },
   {
    "duration": 11,
    "start_time": "2023-11-07T16:36:37.935Z"
   },
   {
    "duration": 4,
    "start_time": "2023-11-07T16:36:37.947Z"
   },
   {
    "duration": 6,
    "start_time": "2023-11-07T16:36:37.953Z"
   },
   {
    "duration": 16,
    "start_time": "2023-11-07T16:36:37.961Z"
   },
   {
    "duration": 57,
    "start_time": "2023-11-07T16:36:37.978Z"
   },
   {
    "duration": 1353,
    "start_time": "2023-11-07T16:36:38.037Z"
   },
   {
    "duration": 3,
    "start_time": "2023-11-07T16:36:39.391Z"
   },
   {
    "duration": 127,
    "start_time": "2023-11-07T16:36:39.395Z"
   },
   {
    "duration": 0,
    "start_time": "2023-11-07T16:36:39.524Z"
   },
   {
    "duration": 0,
    "start_time": "2023-11-07T16:36:39.526Z"
   },
   {
    "duration": 0,
    "start_time": "2023-11-07T16:36:39.527Z"
   },
   {
    "duration": 0,
    "start_time": "2023-11-07T16:36:39.528Z"
   },
   {
    "duration": 0,
    "start_time": "2023-11-07T16:36:39.529Z"
   },
   {
    "duration": 0,
    "start_time": "2023-11-07T16:36:39.530Z"
   },
   {
    "duration": 0,
    "start_time": "2023-11-07T16:36:39.531Z"
   },
   {
    "duration": 0,
    "start_time": "2023-11-07T16:36:39.532Z"
   },
   {
    "duration": 0,
    "start_time": "2023-11-07T16:36:39.533Z"
   },
   {
    "duration": 0,
    "start_time": "2023-11-07T16:36:39.534Z"
   },
   {
    "duration": 0,
    "start_time": "2023-11-07T16:36:39.535Z"
   },
   {
    "duration": 0,
    "start_time": "2023-11-07T16:36:39.536Z"
   },
   {
    "duration": 0,
    "start_time": "2023-11-07T16:36:39.537Z"
   },
   {
    "duration": 0,
    "start_time": "2023-11-07T16:36:39.538Z"
   },
   {
    "duration": 0,
    "start_time": "2023-11-07T16:36:39.539Z"
   },
   {
    "duration": 0,
    "start_time": "2023-11-07T16:36:39.542Z"
   },
   {
    "duration": 0,
    "start_time": "2023-11-07T16:36:39.544Z"
   },
   {
    "duration": 0,
    "start_time": "2023-11-07T16:36:39.546Z"
   },
   {
    "duration": 0,
    "start_time": "2023-11-07T16:36:39.547Z"
   },
   {
    "duration": 0,
    "start_time": "2023-11-07T16:36:39.549Z"
   },
   {
    "duration": 0,
    "start_time": "2023-11-07T16:36:39.550Z"
   },
   {
    "duration": 0,
    "start_time": "2023-11-07T16:36:39.551Z"
   },
   {
    "duration": 0,
    "start_time": "2023-11-07T16:36:39.555Z"
   },
   {
    "duration": 0,
    "start_time": "2023-11-07T16:36:39.557Z"
   },
   {
    "duration": 0,
    "start_time": "2023-11-07T16:36:39.558Z"
   },
   {
    "duration": 9,
    "start_time": "2023-11-07T16:37:07.440Z"
   },
   {
    "duration": 13,
    "start_time": "2023-11-07T16:37:16.322Z"
   },
   {
    "duration": 22,
    "start_time": "2023-11-07T16:37:18.420Z"
   },
   {
    "duration": 20,
    "start_time": "2023-11-07T16:37:21.445Z"
   },
   {
    "duration": 9,
    "start_time": "2023-11-07T16:37:28.336Z"
   },
   {
    "duration": 5,
    "start_time": "2023-11-07T16:37:38.889Z"
   },
   {
    "duration": 16,
    "start_time": "2023-11-07T16:51:55.690Z"
   },
   {
    "duration": 3,
    "start_time": "2023-11-07T16:52:33.769Z"
   },
   {
    "duration": 21,
    "start_time": "2023-11-07T16:52:34.792Z"
   },
   {
    "duration": 9,
    "start_time": "2023-11-07T16:53:19.958Z"
   },
   {
    "duration": 3,
    "start_time": "2023-11-07T16:53:35.304Z"
   },
   {
    "duration": 14,
    "start_time": "2023-11-07T16:53:36.274Z"
   },
   {
    "duration": 5,
    "start_time": "2023-11-07T16:53:52.310Z"
   },
   {
    "duration": 4,
    "start_time": "2023-11-07T16:53:52.907Z"
   },
   {
    "duration": 15,
    "start_time": "2023-11-07T16:53:53.391Z"
   },
   {
    "duration": 5,
    "start_time": "2023-11-07T16:54:30.683Z"
   },
   {
    "duration": 15,
    "start_time": "2023-11-07T16:54:31.182Z"
   },
   {
    "duration": 3,
    "start_time": "2023-11-07T16:54:34.282Z"
   },
   {
    "duration": 15,
    "start_time": "2023-11-07T16:54:34.857Z"
   },
   {
    "duration": 20,
    "start_time": "2023-11-07T16:56:01.443Z"
   },
   {
    "duration": 5,
    "start_time": "2023-11-07T16:57:39.847Z"
   },
   {
    "duration": 29,
    "start_time": "2023-11-07T16:57:41.324Z"
   },
   {
    "duration": 11,
    "start_time": "2023-11-07T18:50:13.033Z"
   },
   {
    "duration": 13,
    "start_time": "2023-11-07T18:51:07.428Z"
   },
   {
    "duration": 88,
    "start_time": "2023-11-07T18:52:01.789Z"
   },
   {
    "duration": 149,
    "start_time": "2023-11-07T18:52:15.471Z"
   },
   {
    "duration": 53,
    "start_time": "2023-11-08T15:38:42.842Z"
   },
   {
    "duration": 1707,
    "start_time": "2023-11-08T15:38:51.056Z"
   },
   {
    "duration": 83,
    "start_time": "2023-11-08T15:38:52.765Z"
   },
   {
    "duration": 3,
    "start_time": "2023-11-08T15:38:52.850Z"
   },
   {
    "duration": 28,
    "start_time": "2023-11-08T15:38:52.855Z"
   },
   {
    "duration": 14,
    "start_time": "2023-11-08T15:38:52.885Z"
   },
   {
    "duration": 63,
    "start_time": "2023-11-08T15:38:52.901Z"
   },
   {
    "duration": 9,
    "start_time": "2023-11-08T15:38:52.966Z"
   },
   {
    "duration": 15,
    "start_time": "2023-11-08T15:38:52.977Z"
   },
   {
    "duration": 3,
    "start_time": "2023-11-08T15:38:52.994Z"
   },
   {
    "duration": 11,
    "start_time": "2023-11-08T15:38:52.999Z"
   },
   {
    "duration": 7,
    "start_time": "2023-11-08T15:38:53.012Z"
   },
   {
    "duration": 30,
    "start_time": "2023-11-08T15:38:53.020Z"
   },
   {
    "duration": 6,
    "start_time": "2023-11-08T15:38:53.051Z"
   },
   {
    "duration": 12,
    "start_time": "2023-11-08T15:38:53.059Z"
   },
   {
    "duration": 4,
    "start_time": "2023-11-08T15:38:53.072Z"
   },
   {
    "duration": 28,
    "start_time": "2023-11-08T15:38:53.078Z"
   },
   {
    "duration": 17,
    "start_time": "2023-11-08T15:38:53.108Z"
   },
   {
    "duration": 32,
    "start_time": "2023-11-08T15:38:53.126Z"
   },
   {
    "duration": 1319,
    "start_time": "2023-11-08T15:38:53.160Z"
   },
   {
    "duration": 3,
    "start_time": "2023-11-08T15:38:54.481Z"
   },
   {
    "duration": 134,
    "start_time": "2023-11-08T15:38:54.485Z"
   },
   {
    "duration": 0,
    "start_time": "2023-11-08T15:38:54.621Z"
   },
   {
    "duration": 0,
    "start_time": "2023-11-08T15:38:54.622Z"
   },
   {
    "duration": 0,
    "start_time": "2023-11-08T15:38:54.623Z"
   },
   {
    "duration": 0,
    "start_time": "2023-11-08T15:38:54.624Z"
   },
   {
    "duration": 0,
    "start_time": "2023-11-08T15:38:54.625Z"
   },
   {
    "duration": 0,
    "start_time": "2023-11-08T15:38:54.626Z"
   },
   {
    "duration": 0,
    "start_time": "2023-11-08T15:38:54.627Z"
   },
   {
    "duration": 0,
    "start_time": "2023-11-08T15:38:54.628Z"
   },
   {
    "duration": 0,
    "start_time": "2023-11-08T15:38:54.629Z"
   },
   {
    "duration": 0,
    "start_time": "2023-11-08T15:38:54.630Z"
   },
   {
    "duration": 0,
    "start_time": "2023-11-08T15:38:54.647Z"
   },
   {
    "duration": 0,
    "start_time": "2023-11-08T15:38:54.648Z"
   },
   {
    "duration": 0,
    "start_time": "2023-11-08T15:38:54.649Z"
   },
   {
    "duration": 0,
    "start_time": "2023-11-08T15:38:54.650Z"
   },
   {
    "duration": 0,
    "start_time": "2023-11-08T15:38:54.652Z"
   },
   {
    "duration": 0,
    "start_time": "2023-11-08T15:38:54.653Z"
   },
   {
    "duration": 0,
    "start_time": "2023-11-08T15:38:54.655Z"
   },
   {
    "duration": 0,
    "start_time": "2023-11-08T15:38:54.656Z"
   },
   {
    "duration": 0,
    "start_time": "2023-11-08T15:38:54.657Z"
   },
   {
    "duration": 0,
    "start_time": "2023-11-08T15:38:54.658Z"
   },
   {
    "duration": 0,
    "start_time": "2023-11-08T15:38:54.659Z"
   },
   {
    "duration": 0,
    "start_time": "2023-11-08T15:38:54.661Z"
   },
   {
    "duration": 0,
    "start_time": "2023-11-08T15:38:54.662Z"
   },
   {
    "duration": 0,
    "start_time": "2023-11-08T15:38:54.663Z"
   },
   {
    "duration": 0,
    "start_time": "2023-11-08T15:38:54.664Z"
   },
   {
    "duration": 0,
    "start_time": "2023-11-08T15:38:54.666Z"
   },
   {
    "duration": 5,
    "start_time": "2023-11-08T15:39:39.164Z"
   },
   {
    "duration": 15,
    "start_time": "2023-11-08T15:39:45.077Z"
   },
   {
    "duration": 4,
    "start_time": "2023-11-08T15:39:47.111Z"
   },
   {
    "duration": 4,
    "start_time": "2023-11-08T15:39:47.706Z"
   },
   {
    "duration": 5,
    "start_time": "2023-11-08T15:39:48.236Z"
   },
   {
    "duration": 6,
    "start_time": "2023-11-08T15:39:57.310Z"
   },
   {
    "duration": 19,
    "start_time": "2023-11-08T15:40:13.431Z"
   },
   {
    "duration": 20,
    "start_time": "2023-11-08T15:43:31.344Z"
   },
   {
    "duration": 40,
    "start_time": "2023-11-08T15:44:47.574Z"
   },
   {
    "duration": 165,
    "start_time": "2023-11-08T16:18:50.564Z"
   },
   {
    "duration": 12071,
    "start_time": "2023-11-08T16:19:07.200Z"
   },
   {
    "duration": 5180,
    "start_time": "2023-11-08T16:19:47.051Z"
   },
   {
    "duration": 5070,
    "start_time": "2023-11-08T16:21:46.875Z"
   },
   {
    "duration": 11,
    "start_time": "2023-11-08T16:22:38.119Z"
   },
   {
    "duration": 5180,
    "start_time": "2023-11-08T16:22:47.957Z"
   },
   {
    "duration": 54092,
    "start_time": "2023-11-08T16:27:24.247Z"
   },
   {
    "duration": 395,
    "start_time": "2023-11-08T16:29:27.357Z"
   },
   {
    "duration": 264,
    "start_time": "2023-11-08T16:37:36.084Z"
   },
   {
    "duration": 321,
    "start_time": "2023-11-08T16:41:08.581Z"
   },
   {
    "duration": 316,
    "start_time": "2023-11-08T16:47:38.736Z"
   },
   {
    "duration": 53190,
    "start_time": "2023-11-08T16:49:27.978Z"
   },
   {
    "duration": 355,
    "start_time": "2023-11-08T16:52:14.016Z"
   },
   {
    "duration": 1651,
    "start_time": "2023-11-08T17:08:32.664Z"
   },
   {
    "duration": 255,
    "start_time": "2023-11-08T17:08:48.806Z"
   },
   {
    "duration": 219,
    "start_time": "2023-11-08T17:09:04.740Z"
   },
   {
    "duration": 158,
    "start_time": "2023-11-08T17:09:10.318Z"
   },
   {
    "duration": 24,
    "start_time": "2023-11-08T17:10:57.517Z"
   },
   {
    "duration": 177,
    "start_time": "2023-11-08T17:11:39.022Z"
   },
   {
    "duration": 171,
    "start_time": "2023-11-08T17:11:58.901Z"
   },
   {
    "duration": 166,
    "start_time": "2023-11-08T17:12:44.605Z"
   },
   {
    "duration": 167,
    "start_time": "2023-11-08T17:12:49.827Z"
   },
   {
    "duration": 192,
    "start_time": "2023-11-08T17:16:22.857Z"
   },
   {
    "duration": 255,
    "start_time": "2023-11-08T17:20:22.357Z"
   },
   {
    "duration": 146,
    "start_time": "2023-11-08T17:20:34.369Z"
   },
   {
    "duration": 163,
    "start_time": "2023-11-08T17:20:40.399Z"
   },
   {
    "duration": 155,
    "start_time": "2023-11-08T17:21:18.034Z"
   },
   {
    "duration": 159,
    "start_time": "2023-11-08T17:21:26.340Z"
   },
   {
    "duration": 151,
    "start_time": "2023-11-08T17:21:51.992Z"
   },
   {
    "duration": 176,
    "start_time": "2023-11-08T17:22:15.120Z"
   },
   {
    "duration": 163,
    "start_time": "2023-11-08T17:23:07.962Z"
   },
   {
    "duration": 167,
    "start_time": "2023-11-08T17:23:12.262Z"
   },
   {
    "duration": 187,
    "start_time": "2023-11-08T17:23:25.412Z"
   },
   {
    "duration": 155,
    "start_time": "2023-11-08T17:24:07.979Z"
   },
   {
    "duration": 147,
    "start_time": "2023-11-08T17:24:11.623Z"
   },
   {
    "duration": 354,
    "start_time": "2023-11-08T17:24:47.561Z"
   },
   {
    "duration": 73501,
    "start_time": "2023-11-08T17:25:33.954Z"
   },
   {
    "duration": 427,
    "start_time": "2023-11-08T17:27:38.487Z"
   },
   {
    "duration": 178,
    "start_time": "2023-11-08T17:29:19.340Z"
   },
   {
    "duration": 152,
    "start_time": "2023-11-08T17:32:04.192Z"
   },
   {
    "duration": 275,
    "start_time": "2023-11-08T17:32:55.287Z"
   },
   {
    "duration": 31605,
    "start_time": "2023-11-08T17:33:35.566Z"
   },
   {
    "duration": 517,
    "start_time": "2023-11-08T17:34:56.269Z"
   },
   {
    "duration": 160,
    "start_time": "2023-11-08T17:35:53.535Z"
   },
   {
    "duration": 111,
    "start_time": "2023-11-08T17:38:54.323Z"
   },
   {
    "duration": 237,
    "start_time": "2023-11-08T17:39:11.740Z"
   },
   {
    "duration": 300,
    "start_time": "2023-11-08T17:40:20.364Z"
   },
   {
    "duration": 17,
    "start_time": "2023-11-08T17:47:08.348Z"
   },
   {
    "duration": 20,
    "start_time": "2023-11-08T17:47:08.415Z"
   },
   {
    "duration": 6,
    "start_time": "2023-11-08T17:47:51.919Z"
   },
   {
    "duration": 20,
    "start_time": "2023-11-08T17:48:04.831Z"
   },
   {
    "duration": 17,
    "start_time": "2023-11-08T17:48:16.743Z"
   },
   {
    "duration": 18,
    "start_time": "2023-11-08T17:48:25.797Z"
   },
   {
    "duration": 20,
    "start_time": "2023-11-08T17:50:52.770Z"
   },
   {
    "duration": 24,
    "start_time": "2023-11-08T17:51:12.743Z"
   },
   {
    "duration": 330,
    "start_time": "2023-11-08T17:52:58.566Z"
   },
   {
    "duration": 23,
    "start_time": "2023-11-08T17:53:41.833Z"
   },
   {
    "duration": 347,
    "start_time": "2023-11-08T17:53:57.100Z"
   },
   {
    "duration": 306,
    "start_time": "2023-11-08T17:54:14.671Z"
   },
   {
    "duration": 340,
    "start_time": "2023-11-08T17:54:41.599Z"
   },
   {
    "duration": 1503,
    "start_time": "2023-11-08T17:55:19.163Z"
   },
   {
    "duration": 45,
    "start_time": "2023-11-08T17:55:20.669Z"
   },
   {
    "duration": 3,
    "start_time": "2023-11-08T17:55:20.716Z"
   },
   {
    "duration": 24,
    "start_time": "2023-11-08T17:55:20.721Z"
   },
   {
    "duration": 15,
    "start_time": "2023-11-08T17:55:20.748Z"
   },
   {
    "duration": 44,
    "start_time": "2023-11-08T17:55:20.765Z"
   },
   {
    "duration": 8,
    "start_time": "2023-11-08T17:55:20.811Z"
   },
   {
    "duration": 13,
    "start_time": "2023-11-08T17:55:20.848Z"
   },
   {
    "duration": 3,
    "start_time": "2023-11-08T17:55:20.862Z"
   },
   {
    "duration": 14,
    "start_time": "2023-11-08T17:55:20.867Z"
   },
   {
    "duration": 32,
    "start_time": "2023-11-08T17:55:20.883Z"
   },
   {
    "duration": 15,
    "start_time": "2023-11-08T17:55:20.917Z"
   },
   {
    "duration": 19,
    "start_time": "2023-11-08T17:55:20.933Z"
   },
   {
    "duration": 16,
    "start_time": "2023-11-08T17:55:20.955Z"
   },
   {
    "duration": 4,
    "start_time": "2023-11-08T17:55:20.973Z"
   },
   {
    "duration": 27,
    "start_time": "2023-11-08T17:55:20.979Z"
   },
   {
    "duration": 13,
    "start_time": "2023-11-08T17:55:21.008Z"
   },
   {
    "duration": 28,
    "start_time": "2023-11-08T17:55:21.023Z"
   },
   {
    "duration": 1400,
    "start_time": "2023-11-08T17:55:21.053Z"
   },
   {
    "duration": 2,
    "start_time": "2023-11-08T17:55:22.455Z"
   },
   {
    "duration": 5,
    "start_time": "2023-11-08T17:55:22.458Z"
   },
   {
    "duration": 12,
    "start_time": "2023-11-08T17:55:22.465Z"
   },
   {
    "duration": 7,
    "start_time": "2023-11-08T17:55:22.480Z"
   },
   {
    "duration": 18,
    "start_time": "2023-11-08T17:55:22.490Z"
   },
   {
    "duration": 5,
    "start_time": "2023-11-08T17:55:22.509Z"
   },
   {
    "duration": 5,
    "start_time": "2023-11-08T17:55:22.546Z"
   },
   {
    "duration": 5,
    "start_time": "2023-11-08T17:55:22.552Z"
   },
   {
    "duration": 21,
    "start_time": "2023-11-08T17:55:22.559Z"
   },
   {
    "duration": 30,
    "start_time": "2023-11-08T17:55:22.581Z"
   },
   {
    "duration": 197,
    "start_time": "2023-11-08T17:55:22.613Z"
   },
   {
    "duration": 54472,
    "start_time": "2023-11-08T17:55:22.812Z"
   },
   {
    "duration": 169,
    "start_time": "2023-11-08T17:56:17.285Z"
   },
   {
    "duration": 533,
    "start_time": "2023-11-08T17:56:17.457Z"
   },
   {
    "duration": 1024185,
    "start_time": "2023-11-08T17:56:17.992Z"
   },
   {
    "duration": 482,
    "start_time": "2023-11-08T18:13:22.179Z"
   },
   {
    "duration": 159,
    "start_time": "2023-11-08T18:13:22.663Z"
   },
   {
    "duration": 159,
    "start_time": "2023-11-08T18:13:22.824Z"
   },
   {
    "duration": 357,
    "start_time": "2023-11-08T18:13:22.985Z"
   },
   {
    "duration": 1389850,
    "start_time": "2023-11-08T18:13:23.347Z"
   },
   {
    "duration": 384,
    "start_time": "2023-11-08T18:36:33.199Z"
   },
   {
    "duration": 141,
    "start_time": "2023-11-08T18:36:33.587Z"
   },
   {
    "duration": 149,
    "start_time": "2023-11-08T18:36:33.729Z"
   },
   {
    "duration": 279,
    "start_time": "2023-11-08T18:36:33.879Z"
   },
   {
    "duration": 549804,
    "start_time": "2023-11-08T18:36:34.160Z"
   },
   {
    "duration": 411,
    "start_time": "2023-11-08T18:45:43.966Z"
   },
   {
    "duration": 163,
    "start_time": "2023-11-08T18:45:44.379Z"
   },
   {
    "duration": 364,
    "start_time": "2023-11-08T18:45:44.546Z"
   },
   {
    "duration": 7,
    "start_time": "2023-11-08T18:45:44.911Z"
   },
   {
    "duration": 1007,
    "start_time": "2023-11-08T18:47:42.599Z"
   },
   {
    "duration": 6,
    "start_time": "2023-11-08T18:50:10.270Z"
   },
   {
    "duration": 78,
    "start_time": "2023-11-09T09:22:24.120Z"
   },
   {
    "duration": 1942,
    "start_time": "2023-11-09T09:22:35.557Z"
   },
   {
    "duration": 85,
    "start_time": "2023-11-09T09:22:37.501Z"
   },
   {
    "duration": 2,
    "start_time": "2023-11-09T09:22:37.588Z"
   },
   {
    "duration": 30,
    "start_time": "2023-11-09T09:22:38.609Z"
   },
   {
    "duration": 20,
    "start_time": "2023-11-09T09:22:39.668Z"
   },
   {
    "duration": 68,
    "start_time": "2023-11-09T09:22:40.406Z"
   },
   {
    "duration": 13,
    "start_time": "2023-11-09T09:22:41.596Z"
   },
   {
    "duration": 17,
    "start_time": "2023-11-09T09:22:42.523Z"
   },
   {
    "duration": 4,
    "start_time": "2023-11-09T09:22:43.779Z"
   },
   {
    "duration": 5,
    "start_time": "2023-11-09T09:22:44.356Z"
   },
   {
    "duration": 267,
    "start_time": "2023-11-09T09:22:47.442Z"
   },
   {
    "duration": 154,
    "start_time": "2023-11-09T09:22:54.274Z"
   },
   {
    "duration": 155,
    "start_time": "2023-11-09T09:23:08.103Z"
   },
   {
    "duration": 3,
    "start_time": "2023-11-09T09:25:58.089Z"
   },
   {
    "duration": 125,
    "start_time": "2023-11-09T09:33:56.810Z"
   },
   {
    "duration": 14,
    "start_time": "2023-11-09T09:34:16.622Z"
   },
   {
    "duration": 24,
    "start_time": "2023-11-09T09:34:32.556Z"
   },
   {
    "duration": 5,
    "start_time": "2023-11-09T09:34:40.836Z"
   },
   {
    "duration": 55,
    "start_time": "2023-11-09T09:34:41.620Z"
   },
   {
    "duration": 3,
    "start_time": "2023-11-09T09:34:42.162Z"
   },
   {
    "duration": 29,
    "start_time": "2023-11-09T09:34:42.672Z"
   },
   {
    "duration": 21,
    "start_time": "2023-11-09T09:34:43.285Z"
   },
   {
    "duration": 62,
    "start_time": "2023-11-09T09:34:43.856Z"
   },
   {
    "duration": 11,
    "start_time": "2023-11-09T09:34:44.426Z"
   },
   {
    "duration": 17,
    "start_time": "2023-11-09T09:34:44.998Z"
   },
   {
    "duration": 3,
    "start_time": "2023-11-09T09:34:46.109Z"
   },
   {
    "duration": 7,
    "start_time": "2023-11-09T09:34:46.653Z"
   },
   {
    "duration": 165,
    "start_time": "2023-11-09T09:34:48.240Z"
   },
   {
    "duration": 10,
    "start_time": "2023-11-09T09:34:49.179Z"
   },
   {
    "duration": 3,
    "start_time": "2023-11-09T09:34:50.600Z"
   },
   {
    "duration": 13,
    "start_time": "2023-11-09T09:34:51.180Z"
   },
   {
    "duration": 1557,
    "start_time": "2023-11-09T09:36:22.481Z"
   },
   {
    "duration": 43,
    "start_time": "2023-11-09T09:36:24.998Z"
   },
   {
    "duration": 3,
    "start_time": "2023-11-09T09:36:25.703Z"
   },
   {
    "duration": 34,
    "start_time": "2023-11-09T09:36:26.833Z"
   },
   {
    "duration": 14,
    "start_time": "2023-11-09T09:36:28.599Z"
   },
   {
    "duration": 51,
    "start_time": "2023-11-09T09:36:29.398Z"
   },
   {
    "duration": 9,
    "start_time": "2023-11-09T09:36:30.137Z"
   },
   {
    "duration": 12,
    "start_time": "2023-11-09T09:36:30.821Z"
   },
   {
    "duration": 3,
    "start_time": "2023-11-09T09:36:32.023Z"
   },
   {
    "duration": 6,
    "start_time": "2023-11-09T09:36:32.630Z"
   },
   {
    "duration": 199,
    "start_time": "2023-11-09T09:36:34.742Z"
   },
   {
    "duration": 7,
    "start_time": "2023-11-09T09:36:35.964Z"
   },
   {
    "duration": 13,
    "start_time": "2023-11-09T09:36:37.826Z"
   },
   {
    "duration": 11,
    "start_time": "2023-11-09T09:36:38.496Z"
   },
   {
    "duration": 5,
    "start_time": "2023-11-09T09:36:40.732Z"
   },
   {
    "duration": 8,
    "start_time": "2023-11-09T09:36:47.614Z"
   },
   {
    "duration": 19,
    "start_time": "2023-11-09T09:36:50.815Z"
   },
   {
    "duration": 21,
    "start_time": "2023-11-09T09:36:51.732Z"
   },
   {
    "duration": 1373,
    "start_time": "2023-11-09T09:36:52.565Z"
   },
   {
    "duration": 16,
    "start_time": "2023-11-09T09:36:57.192Z"
   },
   {
    "duration": 3,
    "start_time": "2023-11-09T09:36:57.862Z"
   },
   {
    "duration": 3,
    "start_time": "2023-11-09T09:37:03.225Z"
   },
   {
    "duration": 4,
    "start_time": "2023-11-09T09:37:03.818Z"
   },
   {
    "duration": 8,
    "start_time": "2023-11-09T09:37:09.808Z"
   },
   {
    "duration": 23,
    "start_time": "2023-11-09T09:37:11.225Z"
   },
   {
    "duration": 6,
    "start_time": "2023-11-09T09:37:12.063Z"
   },
   {
    "duration": 5,
    "start_time": "2023-11-09T09:37:13.063Z"
   },
   {
    "duration": 5,
    "start_time": "2023-11-09T09:37:13.812Z"
   },
   {
    "duration": 26,
    "start_time": "2023-11-09T09:37:14.581Z"
   },
   {
    "duration": 40,
    "start_time": "2023-11-09T09:37:19.248Z"
   },
   {
    "duration": 156,
    "start_time": "2023-11-09T09:37:25.722Z"
   },
   {
    "duration": 5494,
    "start_time": "2023-11-09T09:37:26.816Z"
   },
   {
    "duration": 5781,
    "start_time": "2023-11-09T09:37:42.607Z"
   },
   {
    "duration": 124,
    "start_time": "2023-11-09T09:44:23.666Z"
   },
   {
    "duration": 0,
    "start_time": "2023-11-09T09:51:11.096Z"
   },
   {
    "duration": 0,
    "start_time": "2023-11-09T09:51:11.098Z"
   },
   {
    "duration": 8029,
    "start_time": "2023-11-09T09:53:09.273Z"
   },
   {
    "duration": 8032,
    "start_time": "2023-11-09T09:53:22.975Z"
   },
   {
    "duration": 54720,
    "start_time": "2023-11-09T09:54:03.440Z"
   },
   {
    "duration": 54176,
    "start_time": "2023-11-09T09:55:20.040Z"
   },
   {
    "duration": 5,
    "start_time": "2023-11-09T10:01:08.406Z"
   },
   {
    "duration": 3226,
    "start_time": "2023-11-09T13:18:06.600Z"
   },
   {
    "duration": 154,
    "start_time": "2023-11-09T13:18:09.828Z"
   },
   {
    "duration": 3,
    "start_time": "2023-11-09T13:18:09.983Z"
   },
   {
    "duration": 38,
    "start_time": "2023-11-09T13:18:09.988Z"
   },
   {
    "duration": 55,
    "start_time": "2023-11-09T13:18:10.027Z"
   },
   {
    "duration": 56,
    "start_time": "2023-11-09T13:18:10.084Z"
   },
   {
    "duration": 7,
    "start_time": "2023-11-09T13:18:10.142Z"
   },
   {
    "duration": 27,
    "start_time": "2023-11-09T13:18:10.151Z"
   },
   {
    "duration": 2,
    "start_time": "2023-11-09T13:18:10.179Z"
   },
   {
    "duration": 16,
    "start_time": "2023-11-09T13:18:10.184Z"
   },
   {
    "duration": 144,
    "start_time": "2023-11-09T13:18:10.202Z"
   },
   {
    "duration": 5,
    "start_time": "2023-11-09T13:18:10.348Z"
   },
   {
    "duration": 7,
    "start_time": "2023-11-09T13:18:10.354Z"
   },
   {
    "duration": 13,
    "start_time": "2023-11-09T13:18:10.362Z"
   },
   {
    "duration": 4,
    "start_time": "2023-11-09T13:18:10.376Z"
   },
   {
    "duration": 7,
    "start_time": "2023-11-09T13:18:10.382Z"
   },
   {
    "duration": 14,
    "start_time": "2023-11-09T13:18:10.390Z"
   },
   {
    "duration": 40,
    "start_time": "2023-11-09T13:18:10.405Z"
   },
   {
    "duration": 1234,
    "start_time": "2023-11-09T13:18:10.447Z"
   },
   {
    "duration": 3,
    "start_time": "2023-11-09T13:18:11.683Z"
   },
   {
    "duration": 23,
    "start_time": "2023-11-09T13:18:11.688Z"
   },
   {
    "duration": 119,
    "start_time": "2023-11-09T13:18:20.873Z"
   },
   {
    "duration": 11,
    "start_time": "2023-11-09T13:18:28.122Z"
   },
   {
    "duration": 9,
    "start_time": "2023-11-09T13:18:47.517Z"
   },
   {
    "duration": 14,
    "start_time": "2023-11-09T13:19:00.567Z"
   },
   {
    "duration": 5,
    "start_time": "2023-11-09T13:19:02.334Z"
   },
   {
    "duration": 20,
    "start_time": "2023-11-09T13:19:07.129Z"
   },
   {
    "duration": 39,
    "start_time": "2023-11-09T13:20:18.337Z"
   },
   {
    "duration": 21,
    "start_time": "2023-11-09T13:20:37.859Z"
   },
   {
    "duration": 38,
    "start_time": "2023-11-09T13:20:48.148Z"
   },
   {
    "duration": 3,
    "start_time": "2023-11-09T13:20:56.517Z"
   },
   {
    "duration": 110,
    "start_time": "2023-11-09T13:58:09.305Z"
   },
   {
    "duration": 58,
    "start_time": "2023-11-09T13:58:21.352Z"
   },
   {
    "duration": 1716,
    "start_time": "2023-11-09T13:58:31.718Z"
   },
   {
    "duration": 80,
    "start_time": "2023-11-09T13:58:33.436Z"
   },
   {
    "duration": 89,
    "start_time": "2023-11-09T13:58:38.560Z"
   },
   {
    "duration": 5,
    "start_time": "2023-11-09T13:58:48.793Z"
   },
   {
    "duration": 168,
    "start_time": "2023-11-09T13:58:50.999Z"
   },
   {
    "duration": 8,
    "start_time": "2023-11-09T13:58:53.658Z"
   },
   {
    "duration": 22,
    "start_time": "2023-11-09T13:59:00.052Z"
   },
   {
    "duration": 1489,
    "start_time": "2023-11-25T15:30:46.982Z"
   },
   {
    "duration": 163,
    "start_time": "2023-11-25T15:30:48.472Z"
   },
   {
    "duration": 2,
    "start_time": "2023-11-25T15:30:48.637Z"
   },
   {
    "duration": 20,
    "start_time": "2023-11-25T15:30:48.641Z"
   },
   {
    "duration": 13,
    "start_time": "2023-11-25T15:30:48.662Z"
   },
   {
    "duration": 47,
    "start_time": "2023-11-25T15:30:48.676Z"
   },
   {
    "duration": 7,
    "start_time": "2023-11-25T15:30:48.725Z"
   },
   {
    "duration": 11,
    "start_time": "2023-11-25T15:30:48.733Z"
   },
   {
    "duration": 2,
    "start_time": "2023-11-25T15:30:48.745Z"
   },
   {
    "duration": 11,
    "start_time": "2023-11-25T15:30:48.749Z"
   },
   {
    "duration": 169,
    "start_time": "2023-11-25T15:30:48.761Z"
   },
   {
    "duration": 5,
    "start_time": "2023-11-25T15:30:48.932Z"
   },
   {
    "duration": 3,
    "start_time": "2023-11-25T15:30:48.939Z"
   },
   {
    "duration": 14,
    "start_time": "2023-11-25T15:30:48.944Z"
   },
   {
    "duration": 16,
    "start_time": "2023-11-25T15:30:48.960Z"
   },
   {
    "duration": 11,
    "start_time": "2023-11-25T15:30:48.978Z"
   },
   {
    "duration": 11,
    "start_time": "2023-11-25T15:30:48.991Z"
   },
   {
    "duration": 21,
    "start_time": "2023-11-25T15:30:49.014Z"
   },
   {
    "duration": 1247,
    "start_time": "2023-11-25T15:30:49.037Z"
   },
   {
    "duration": 2,
    "start_time": "2023-11-25T15:30:50.286Z"
   },
   {
    "duration": 5,
    "start_time": "2023-11-25T15:30:50.289Z"
   },
   {
    "duration": 29,
    "start_time": "2023-11-25T15:30:50.295Z"
   },
   {
    "duration": 4,
    "start_time": "2023-11-25T15:30:50.325Z"
   },
   {
    "duration": 7,
    "start_time": "2023-11-25T15:30:50.330Z"
   },
   {
    "duration": 16,
    "start_time": "2023-11-25T15:30:50.338Z"
   },
   {
    "duration": 3,
    "start_time": "2023-11-25T15:30:50.356Z"
   },
   {
    "duration": 4,
    "start_time": "2023-11-25T15:30:50.361Z"
   },
   {
    "duration": 4,
    "start_time": "2023-11-25T15:30:50.368Z"
   },
   {
    "duration": 48,
    "start_time": "2023-11-25T15:30:50.373Z"
   },
   {
    "duration": 26,
    "start_time": "2023-11-25T15:30:50.423Z"
   },
   {
    "duration": 15,
    "start_time": "2023-11-25T15:30:50.451Z"
   },
   {
    "duration": 197,
    "start_time": "2023-11-25T15:30:50.468Z"
   },
   {
    "duration": 50790,
    "start_time": "2023-11-25T15:30:50.667Z"
   },
   {
    "duration": 262,
    "start_time": "2023-11-25T15:31:41.459Z"
   },
   {
    "duration": 456,
    "start_time": "2023-11-25T15:31:41.723Z"
   },
   {
    "duration": 991838,
    "start_time": "2023-11-25T15:31:42.181Z"
   },
   {
    "duration": 425,
    "start_time": "2023-11-25T15:48:14.021Z"
   },
   {
    "duration": 151,
    "start_time": "2023-11-25T15:48:14.447Z"
   },
   {
    "duration": 169,
    "start_time": "2023-11-25T15:48:14.599Z"
   },
   {
    "duration": 340,
    "start_time": "2023-11-25T15:48:14.770Z"
   },
   {
    "duration": 1503129,
    "start_time": "2023-11-25T15:48:15.113Z"
   },
   {
    "duration": 390,
    "start_time": "2023-11-25T16:13:18.244Z"
   },
   {
    "duration": 162,
    "start_time": "2023-11-25T16:13:18.635Z"
   },
   {
    "duration": 172,
    "start_time": "2023-11-25T16:13:18.799Z"
   },
   {
    "duration": 325,
    "start_time": "2023-11-25T16:13:18.973Z"
   },
   {
    "duration": 725385,
    "start_time": "2023-11-25T16:13:19.299Z"
   },
   {
    "duration": 376,
    "start_time": "2023-11-25T16:25:24.685Z"
   },
   {
    "duration": 189,
    "start_time": "2023-11-25T16:25:25.063Z"
   },
   {
    "duration": 1101,
    "start_time": "2023-11-25T16:25:25.256Z"
   },
   {
    "duration": 7,
    "start_time": "2023-11-25T16:25:26.358Z"
   }
  ],
  "kernelspec": {
   "display_name": "Python 3 (ipykernel)",
   "language": "python",
   "name": "python3"
  },
  "language_info": {
   "codemirror_mode": {
    "name": "ipython",
    "version": 3
   },
   "file_extension": ".py",
   "mimetype": "text/x-python",
   "name": "python",
   "nbconvert_exporter": "python",
   "pygments_lexer": "ipython3",
   "version": "3.9.5"
  },
  "toc": {
   "base_numbering": 1,
   "nav_menu": {},
   "number_sections": true,
   "sideBar": true,
   "skip_h1_title": true,
   "title_cell": "Содержание",
   "title_sidebar": "Contents",
   "toc_cell": true,
   "toc_position": {
    "height": "calc(100% - 180px)",
    "left": "10px",
    "top": "150px",
    "width": "222.594px"
   },
   "toc_section_display": true,
   "toc_window_display": true
  }
 },
 "nbformat": 4,
 "nbformat_minor": 2
}
